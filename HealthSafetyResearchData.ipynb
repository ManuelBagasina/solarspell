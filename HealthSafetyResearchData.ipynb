{
  "nbformat": 4,
  "nbformat_minor": 0,
  "metadata": {
    "colab": {
      "provenance": [],
      "include_colab_link": true
    },
    "kernelspec": {
      "name": "python3",
      "display_name": "Python 3"
    },
    "language_info": {
      "name": "python"
    }
  },
  "cells": [
    {
      "cell_type": "markdown",
      "metadata": {
        "id": "view-in-github",
        "colab_type": "text"
      },
      "source": [
        "<a href=\"https://colab.research.google.com/github/ManuelBagasina/solarspell/blob/main/HealthSafetyResearchData.ipynb\" target=\"_parent\"><img src=\"https://colab.research.google.com/assets/colab-badge.svg\" alt=\"Open In Colab\"/></a>"
      ]
    },
    {
      "cell_type": "code",
      "execution_count": null,
      "metadata": {
        "id": "MfiuVXFBeCai"
      },
      "outputs": [],
      "source": [
        "# Import libraries for data handling, plotting, and file uploads\n",
        "import pandas as pd\n",
        "import seaborn as sns\n",
        "import matplotlib.pyplot as plt\n",
        "from google.colab import files"
      ]
    },
    {
      "cell_type": "code",
      "source": [
        "# This will prompt you to upload a file from your local machine\n",
        "print(\"Please upload your data file (e.g., Combined2023-2025.csv or .xlsx)\")\n",
        "uploaded = files.upload()\n",
        "\n",
        "# Get the filename of the uploaded file\n",
        "# This makes the script work even if the filename changes slightly\n",
        "filename = next(iter(uploaded))\n",
        "print(f\"\\nSuccessfully uploaded: '{filename}'\")"
      ],
      "metadata": {
        "colab": {
          "base_uri": "https://localhost:8080/",
          "height": 125
        },
        "id": "ypfTqQNtekQN",
        "outputId": "15fe0cbb-de50-4915-8e28-d18229e01ec3"
      },
      "execution_count": null,
      "outputs": [
        {
          "output_type": "stream",
          "name": "stdout",
          "text": [
            "Please upload your data file (e.g., Combined2023-2025.csv or .xlsx)\n"
          ]
        },
        {
          "output_type": "display_data",
          "data": {
            "text/plain": [
              "<IPython.core.display.HTML object>"
            ],
            "text/html": [
              "\n",
              "     <input type=\"file\" id=\"files-7593e3a5-75eb-4e75-a7f7-5a95dc58f807\" name=\"files[]\" multiple disabled\n",
              "        style=\"border:none\" />\n",
              "     <output id=\"result-7593e3a5-75eb-4e75-a7f7-5a95dc58f807\">\n",
              "      Upload widget is only available when the cell has been executed in the\n",
              "      current browser session. Please rerun this cell to enable.\n",
              "      </output>\n",
              "      <script>// Copyright 2017 Google LLC\n",
              "//\n",
              "// Licensed under the Apache License, Version 2.0 (the \"License\");\n",
              "// you may not use this file except in compliance with the License.\n",
              "// You may obtain a copy of the License at\n",
              "//\n",
              "//      http://www.apache.org/licenses/LICENSE-2.0\n",
              "//\n",
              "// Unless required by applicable law or agreed to in writing, software\n",
              "// distributed under the License is distributed on an \"AS IS\" BASIS,\n",
              "// WITHOUT WARRANTIES OR CONDITIONS OF ANY KIND, either express or implied.\n",
              "// See the License for the specific language governing permissions and\n",
              "// limitations under the License.\n",
              "\n",
              "/**\n",
              " * @fileoverview Helpers for google.colab Python module.\n",
              " */\n",
              "(function(scope) {\n",
              "function span(text, styleAttributes = {}) {\n",
              "  const element = document.createElement('span');\n",
              "  element.textContent = text;\n",
              "  for (const key of Object.keys(styleAttributes)) {\n",
              "    element.style[key] = styleAttributes[key];\n",
              "  }\n",
              "  return element;\n",
              "}\n",
              "\n",
              "// Max number of bytes which will be uploaded at a time.\n",
              "const MAX_PAYLOAD_SIZE = 100 * 1024;\n",
              "\n",
              "function _uploadFiles(inputId, outputId) {\n",
              "  const steps = uploadFilesStep(inputId, outputId);\n",
              "  const outputElement = document.getElementById(outputId);\n",
              "  // Cache steps on the outputElement to make it available for the next call\n",
              "  // to uploadFilesContinue from Python.\n",
              "  outputElement.steps = steps;\n",
              "\n",
              "  return _uploadFilesContinue(outputId);\n",
              "}\n",
              "\n",
              "// This is roughly an async generator (not supported in the browser yet),\n",
              "// where there are multiple asynchronous steps and the Python side is going\n",
              "// to poll for completion of each step.\n",
              "// This uses a Promise to block the python side on completion of each step,\n",
              "// then passes the result of the previous step as the input to the next step.\n",
              "function _uploadFilesContinue(outputId) {\n",
              "  const outputElement = document.getElementById(outputId);\n",
              "  const steps = outputElement.steps;\n",
              "\n",
              "  const next = steps.next(outputElement.lastPromiseValue);\n",
              "  return Promise.resolve(next.value.promise).then((value) => {\n",
              "    // Cache the last promise value to make it available to the next\n",
              "    // step of the generator.\n",
              "    outputElement.lastPromiseValue = value;\n",
              "    return next.value.response;\n",
              "  });\n",
              "}\n",
              "\n",
              "/**\n",
              " * Generator function which is called between each async step of the upload\n",
              " * process.\n",
              " * @param {string} inputId Element ID of the input file picker element.\n",
              " * @param {string} outputId Element ID of the output display.\n",
              " * @return {!Iterable<!Object>} Iterable of next steps.\n",
              " */\n",
              "function* uploadFilesStep(inputId, outputId) {\n",
              "  const inputElement = document.getElementById(inputId);\n",
              "  inputElement.disabled = false;\n",
              "\n",
              "  const outputElement = document.getElementById(outputId);\n",
              "  outputElement.innerHTML = '';\n",
              "\n",
              "  const pickedPromise = new Promise((resolve) => {\n",
              "    inputElement.addEventListener('change', (e) => {\n",
              "      resolve(e.target.files);\n",
              "    });\n",
              "  });\n",
              "\n",
              "  const cancel = document.createElement('button');\n",
              "  inputElement.parentElement.appendChild(cancel);\n",
              "  cancel.textContent = 'Cancel upload';\n",
              "  const cancelPromise = new Promise((resolve) => {\n",
              "    cancel.onclick = () => {\n",
              "      resolve(null);\n",
              "    };\n",
              "  });\n",
              "\n",
              "  // Wait for the user to pick the files.\n",
              "  const files = yield {\n",
              "    promise: Promise.race([pickedPromise, cancelPromise]),\n",
              "    response: {\n",
              "      action: 'starting',\n",
              "    }\n",
              "  };\n",
              "\n",
              "  cancel.remove();\n",
              "\n",
              "  // Disable the input element since further picks are not allowed.\n",
              "  inputElement.disabled = true;\n",
              "\n",
              "  if (!files) {\n",
              "    return {\n",
              "      response: {\n",
              "        action: 'complete',\n",
              "      }\n",
              "    };\n",
              "  }\n",
              "\n",
              "  for (const file of files) {\n",
              "    const li = document.createElement('li');\n",
              "    li.append(span(file.name, {fontWeight: 'bold'}));\n",
              "    li.append(span(\n",
              "        `(${file.type || 'n/a'}) - ${file.size} bytes, ` +\n",
              "        `last modified: ${\n",
              "            file.lastModifiedDate ? file.lastModifiedDate.toLocaleDateString() :\n",
              "                                    'n/a'} - `));\n",
              "    const percent = span('0% done');\n",
              "    li.appendChild(percent);\n",
              "\n",
              "    outputElement.appendChild(li);\n",
              "\n",
              "    const fileDataPromise = new Promise((resolve) => {\n",
              "      const reader = new FileReader();\n",
              "      reader.onload = (e) => {\n",
              "        resolve(e.target.result);\n",
              "      };\n",
              "      reader.readAsArrayBuffer(file);\n",
              "    });\n",
              "    // Wait for the data to be ready.\n",
              "    let fileData = yield {\n",
              "      promise: fileDataPromise,\n",
              "      response: {\n",
              "        action: 'continue',\n",
              "      }\n",
              "    };\n",
              "\n",
              "    // Use a chunked sending to avoid message size limits. See b/62115660.\n",
              "    let position = 0;\n",
              "    do {\n",
              "      const length = Math.min(fileData.byteLength - position, MAX_PAYLOAD_SIZE);\n",
              "      const chunk = new Uint8Array(fileData, position, length);\n",
              "      position += length;\n",
              "\n",
              "      const base64 = btoa(String.fromCharCode.apply(null, chunk));\n",
              "      yield {\n",
              "        response: {\n",
              "          action: 'append',\n",
              "          file: file.name,\n",
              "          data: base64,\n",
              "        },\n",
              "      };\n",
              "\n",
              "      let percentDone = fileData.byteLength === 0 ?\n",
              "          100 :\n",
              "          Math.round((position / fileData.byteLength) * 100);\n",
              "      percent.textContent = `${percentDone}% done`;\n",
              "\n",
              "    } while (position < fileData.byteLength);\n",
              "  }\n",
              "\n",
              "  // All done.\n",
              "  yield {\n",
              "    response: {\n",
              "      action: 'complete',\n",
              "    }\n",
              "  };\n",
              "}\n",
              "\n",
              "scope.google = scope.google || {};\n",
              "scope.google.colab = scope.google.colab || {};\n",
              "scope.google.colab._files = {\n",
              "  _uploadFiles,\n",
              "  _uploadFilesContinue,\n",
              "};\n",
              "})(self);\n",
              "</script> "
            ]
          },
          "metadata": {}
        },
        {
          "output_type": "stream",
          "name": "stdout",
          "text": [
            "Saving Combined2023-2025.xlsx to Combined2023-2025 (5).xlsx\n",
            "\n",
            "Successfully uploaded: 'Combined2023-2025 (5).xlsx'\n"
          ]
        }
      ]
    },
    {
      "cell_type": "code",
      "source": [
        "# Step 2: Load the data and list all column names\n",
        "\n",
        "try:\n",
        "    # Try loading as a CSV file first\n",
        "    if filename.endswith('.csv'):\n",
        "        df = pd.read_csv(filename)\n",
        "    # If it's an Excel file, load it with this\n",
        "    elif filename.endswith(('.xls', '.xlsx')):\n",
        "        df = pd.read_excel(filename)\n",
        "    else:\n",
        "        raise ValueError(\"Unsupported file format. Please upload a .csv or .xlsx file.\")\n",
        "\n",
        "    print(\"File loaded successfully!\")\n",
        "    print(\"\\n--- AVAILABLE COLUMN NAMES ---\")\n",
        "    # Print each column name on a new line for easy reading\n",
        "    for col in df.columns:\n",
        "        print(col)\n",
        "\n",
        "except Exception as e:\n",
        "    print(f\"An error occurred while loading the file: {e}\")"
      ],
      "metadata": {
        "colab": {
          "base_uri": "https://localhost:8080/"
        },
        "id": "qERcsJM4ftJK",
        "outputId": "19fea28e-b714-4c87-9f87-07423e010218"
      },
      "execution_count": null,
      "outputs": [
        {
          "output_type": "stream",
          "name": "stdout",
          "text": [
            "File loaded successfully!\n",
            "\n",
            "--- AVAILABLE COLUMN NAMES ---\n",
            "id\n",
            "title\n",
            "activity_type\n",
            "language\n",
            "content_type\n",
            "subject\n",
            "parent_folder\n",
            "referrer\n",
            "activity_date\n",
            "browser\n",
            "device_type\n",
            "device_os\n",
            "location\n",
            "keyword\n",
            "format\n",
            "audience\n",
            "rights_holder\n",
            "country\n",
            "year_units_retrieved\n",
            "creator\n",
            "sector\n"
          ]
        }
      ]
    },
    {
      "cell_type": "code",
      "source": [
        "# --- FULL ANALYSIS SCRIPT ---\n",
        "\n",
        "# --- Step 1: Define the correct column name ---\n",
        "search_term_column_name = 'title'                   ### CHANGED\n",
        "\n",
        "# --- Step 2: Process and Categorize the Search Terms ---\n",
        "\n",
        "# Standardize the search terms to lowercase and handle any empty cells\n",
        "# We use .astype(str) to prevent errors if the column contains non-string data\n",
        "df['search_term_clean'] = df[search_term_column_name].astype(str).str.lower().fillna('')\n",
        "\n",
        "# Filter to Lesotho only  ↓↓↓  ---------------------------------------\n",
        "df = df[df['country'] == 'Lesotho']  ### CHANGED\n",
        "\n",
        "# Define the categories and their associated keywords (using '|' for OR)\n",
        "search_categories = {\n",
        "    'Malaria': 'malaria',\n",
        "    'Tropical Diseases': 'helminthiasis|chromoblastomycosis|taeniasis|cysticercosis|leprosy|rabies',\n",
        "    'Respiratory/Flu': 'respiratory|flu|influenza|cough',\n",
        "    'Stroke': 'stroke',\n",
        "    'Cancer': 'cancer',\n",
        "    'Mental Health': 'depression|anxiety',\n",
        "    'Diabetes': 'diabetes|blood sugar',\n",
        "    'Substance Use': 'alcohol',\n",
        "    'Maternal/Child Health': 'pregnancy|newborns|breastfeeding|newborn|breastfeed',\n",
        "    'Heart Disease': 'heart',\n",
        "    'General Sickness': 'disease|sick|ill',\n",
        "    'Sleep': 'sleep',\n",
        "    'Nutrition': 'nutrition',\n",
        "    \"Alzheimer's\": \"alzheimer's|alzheimer\"\n",
        "}\n",
        "\n",
        "# Create a new column to hold the matched category, defaulting to 'Uncategorized Search'\n",
        "df['category'] = 'Uncategorized Search'\n",
        "\n",
        "# Iterate through your categories and find matches in the search terms\n",
        "for category, pattern in search_categories.items():\n",
        "    mask = df['search_term_clean'].str.contains(pattern, na=False)\n",
        "    df.loc[mask, 'category'] = category\n",
        "\n",
        "print(\"Categorization complete.\")\n",
        "\n",
        "\n",
        "# --- Step 3: Aggregate the Data ---\n",
        "\n",
        "# We only care about rows where a search actually happened.\n",
        "# Let's filter for rows where the activity_type might be 'search'.\n",
        "# If you know the exact value for a search activity, change 'search' here.\n",
        "search_df = df[df['activity_type'].str.contains('search', case=False, na=False)].copy()\n",
        "\n",
        "\n",
        "# Count the occurrences of each category within the search activities\n",
        "category_counts = search_df['category'].value_counts().reset_index()\n",
        "category_counts.columns = ['Health Category', 'Search Count']\n",
        "\n",
        "# Filter out the 'Uncategorized Search' category from the final chart\n",
        "category_counts = category_counts[category_counts['Health Category'] != 'Uncategorized Search']\n",
        "\n",
        "print(\"\\n--- Final Aggregated Counts for Search Activity ---\")\n",
        "print(category_counts)"
      ],
      "metadata": {
        "colab": {
          "base_uri": "https://localhost:8080/"
        },
        "id": "FSFf4djPgB6d",
        "outputId": "f847e1e3-e4d9-4881-86f8-b82f681e2a59"
      },
      "execution_count": null,
      "outputs": [
        {
          "output_type": "stream",
          "name": "stdout",
          "text": [
            "Categorization complete.\n",
            "\n",
            "--- Final Aggregated Counts for Search Activity ---\n",
            "         Health Category  Search Count\n",
            "1       General Sickness           126\n",
            "2               Diabetes            26\n",
            "3  Maternal/Child Health            14\n",
            "4        Respiratory/Flu             7\n",
            "5          Heart Disease             3\n",
            "6          Substance Use             2\n",
            "7              Nutrition             1\n"
          ]
        }
      ]
    },
    {
      "cell_type": "code",
      "source": [
        "# --- Step 4: Create and Save the Visualization ---\n",
        "\n",
        "import seaborn as sns\n",
        "import matplotlib.pyplot as plt\n",
        "\n",
        "# Set the visual style and figure size\n",
        "sns.set_style(\"whitegrid\")\n",
        "plt.figure(figsize=(14, 10))\n",
        "\n",
        "# Create a horizontal bar plot\n",
        "barplot = sns.barplot(\n",
        "    x='Search Count',\n",
        "    y='Health Category',\n",
        "    data=category_counts,\n",
        "    palette='viridis'\n",
        ")\n",
        "\n",
        "# Add a clear title and labels\n",
        "plt.title('Most Common Health-Related Search Terms in Lesotho', fontsize=18, weight='bold', pad=20)\n",
        "plt.xlabel('Number of Searches', fontsize=14)\n",
        "plt.ylabel('Health Category', fontsize=14)\n",
        "\n",
        "# Add the exact count at the end of each bar\n",
        "for index, value in enumerate(category_counts['Search Count']):\n",
        "    plt.text(value, index, f' {value}', va='center', fontsize=12, color='black')\n",
        "\n",
        "# Ensure the plot layout is tight and clean\n",
        "plt.tight_layout()"
      ],
      "metadata": {
        "colab": {
          "base_uri": "https://localhost:8080/",
          "height": 1011
        },
        "id": "OVL1D3N8gNMr",
        "outputId": "1a2b747f-c4e8-4f1e-b016-9b7ea903b1a3"
      },
      "execution_count": null,
      "outputs": [
        {
          "output_type": "stream",
          "name": "stderr",
          "text": [
            "/tmp/ipython-input-5-2188453154.py:11: FutureWarning: \n",
            "\n",
            "Passing `palette` without assigning `hue` is deprecated and will be removed in v0.14.0. Assign the `y` variable to `hue` and set `legend=False` for the same effect.\n",
            "\n",
            "  barplot = sns.barplot(\n"
          ]
        },
        {
          "output_type": "display_data",
          "data": {
            "text/plain": [
              "<Figure size 1400x1000 with 1 Axes>"
            ],
            "image/png": "[encoded data removed]"
          },
          "metadata": {}
        }
      ]
    },
    {
      "cell_type": "code",
      "source": [
        "# Save the plot to a file\n",
        "output_filename = 'health_search_terms_chart.png'\n",
        "plt.savefig(output_filename, dpi=300)\n",
        "\n",
        "# Display the plot in the notebook\n",
        "plt.show()\n",
        "\n",
        "print(f\"\\nChart saved as '{output_filename}'. You can download it from the file browser on the left.\")"
      ],
      "metadata": {
        "id": "-bTk8pDjgSTb",
        "colab": {
          "base_uri": "https://localhost:8080/",
          "height": 69
        },
        "outputId": "ae774f43-fae5-46be-fbf4-cabcd380463b"
      },
      "execution_count": null,
      "outputs": [
        {
          "output_type": "display_data",
          "data": {
            "text/plain": [
              "<Figure size 640x480 with 0 Axes>"
            ]
          },
          "metadata": {}
        },
        {
          "output_type": "stream",
          "name": "stdout",
          "text": [
            "\n",
            "Chart saved as 'health_search_terms_chart.png'. You can download it from the file browser on the left.\n"
          ]
        }
      ]
    },
    {
      "cell_type": "code",
      "source": [
        "# --- DIAGNOSTIC CELL ---\n",
        "\n",
        "# Check if the DataFrame 'df' exists\n",
        "if 'df' in locals():\n",
        "    print(\"--- 1. Unique values in 'activity_type' column ---\")\n",
        "    # This will show us all possible activity types, in case it's not 'search'\n",
        "    print(df['activity_type'].unique())\n",
        "    print(\"\\n\" + \"=\"*50 + \"\\n\")\n",
        "\n",
        "    print(\"--- 2. A sample of unique, non-empty keywords in the entire file ---\")\n",
        "    # This shows us the 'ground truth' of what people are searching for, ignoring filters\n",
        "    # .dropna() removes empty values, .unique() gets only the distinct ones\n",
        "    unique_keywords = df['keyword'].dropna().unique()\n",
        "\n",
        "    # Print the first 100 unique keywords to see what they look like\n",
        "    print(f\"Found {len(unique_keywords)} unique keywords in total.\")\n",
        "    print(\"Showing the first 100:\")\n",
        "    print(unique_keywords[:100])\n",
        "\n",
        "else:\n",
        "    print(\"DataFrame 'df' not found. Please load your data first.\")"
      ],
      "metadata": {
        "colab": {
          "base_uri": "https://localhost:8080/"
        },
        "id": "D8n4mLBShRWr",
        "outputId": "96ce8ccd-03da-45c9-f70b-5e50600f663a"
      },
      "execution_count": null,
      "outputs": [
        {
          "output_type": "stream",
          "name": "stdout",
          "text": [
            "--- 1. Unique values in 'activity_type' column ---\n",
            "['access_content' 'open_module' 'search' 'download_file' 'keyword_search'\n",
            " 'advanced_search']\n",
            "\n",
            "==================================================\n",
            "\n",
            "--- 2. A sample of unique, non-empty keywords in the entire file ---\n",
            "Found 37 unique keywords in total.\n",
            "Showing the first 100:\n",
            "['Video' ' Internet' 'Zoo' 'Zookeeper' '4th Grade' 'Hand Washing'\n",
            " 'Internet Search' 'Health' 'Sesotho Storybooks' 'Sesotho' '8thÂ\\xa0grade'\n",
            " '8thÂ\\xa0grade, ' '8thÂ\\xa0grade, Video' 'Dance' 'Movie' 'Game' ' Ocean'\n",
            " ' Language Arts' '8thÂ\\xa0grade, AED' '8thÂ\\xa0grade, AED, ' 'Video Game'\n",
            " 'Music' 'Video Chat' 'Vanua Levu, Abortion' 'Abortion' ', Video Game'\n",
            " 'Abortion, Video' 'video call' '6th Grade' 'Addition' 'English Language'\n",
            " 'English' '4th Grade, Mathematics' 'Winds of Change' ', 4th Grade' 'Noun'\n",
            " 'SolarSPELL']\n"
          ]
        }
      ]
    },
    {
      "cell_type": "code",
      "source": [
        "!pip install thefuzz"
      ],
      "metadata": {
        "colab": {
          "base_uri": "https://localhost:8080/"
        },
        "id": "0IsY2ptIh-EL",
        "outputId": "49442244-1529-439c-ab1b-9d81fb4a7a8f"
      },
      "execution_count": null,
      "outputs": [
        {
          "output_type": "stream",
          "name": "stdout",
          "text": [
            "Requirement already satisfied: thefuzz in /usr/local/lib/python3.11/dist-packages (0.22.1)\n",
            "Requirement already satisfied: rapidfuzz<4.0.0,>=3.0.0 in /usr/local/lib/python3.11/dist-packages (from thefuzz) (3.13.0)\n"
          ]
        }
      ]
    },
    {
      "cell_type": "code",
      "source": [
        "# Import necessary libraries\n",
        "from thefuzz import process\n",
        "import re # Library for regular expressions, used for cleaning\n",
        "\n",
        "# --- 1. SETUP & CONFIGURATION (Tailored to your data) ---\n",
        "\n",
        "# Define all activity types that count as a \"search\"\n",
        "SEARCH_ACTIVITY_TYPES = ['search', 'keyword_search', 'advanced_search']\n",
        "\n",
        "# **UPDATED** list of health terms we are looking for.\n",
        "# These will be the labels on our final chart.\n",
        "health_keywords = [\n",
        "    'cancer', 'cholera','hand washing', 'abortion', 'who', # Your new terms\n",
        "    'malaria', 'tropical diseases', 'helminthiasis', 'chromoblastomycosis', 'taeniasis',\n",
        "    'cysticercosis', 'leprosy', 'rabies', 'respiratory', 'flu', 'influenza', 'stroke',\n",
        "    'alzheimer', 'depression', 'anxiety', 'diabetes', 'blood sugar', 'alcohol',\n",
        "    'pregnancy', 'newborns', 'breastfeeding', 'heart', 'disease', 'sick', 'ill', 'cough', 'sleep', 'nutrition'\n",
        "]\n",
        "\n",
        "\n",
        "# --- 2. FUZZY MATCHING & DATA CLEANING FUNCTION ---\n",
        "\n",
        "def clean_and_match(query, choices, score_cutoff=85):\n",
        "    \"\"\"\n",
        "    Cleans the query string and then finds the best fuzzy match.\n",
        "    \"\"\"\n",
        "    if not isinstance(query, str) or not query:\n",
        "        return None\n",
        "\n",
        "    cleaned_query = re.sub(r'[^a-zA-Z0-9\\s]', '', query).strip().lower()\n",
        "    if not cleaned_query:\n",
        "        return None\n",
        "\n",
        "    best_match = process.extractOne(cleaned_query, choices)\n",
        "\n",
        "    if best_match and best_match[1] >= score_cutoff:\n",
        "        return best_match[0]\n",
        "    return None\n",
        "\n",
        "\n",
        "# --- 3. DATA ANALYSIS PIPELINE (MODIFIED FOR ORIGINAL KEYWORDS) ---\n",
        "\n",
        "# Filter for rows where activity_type is one of our defined search types\n",
        "search_df = df[df['activity_type'].isin(SEARCH_ACTIVITY_TYPES)].copy()\n",
        "\n",
        "# Apply our cleaning and fuzzy matching function to the 'keyword' column\n",
        "search_df['matched_keyword'] = search_df['keyword'].apply(\n",
        "    lambda x: clean_and_match(x, health_keywords)\n",
        ")\n",
        "\n",
        "# **CHANGE HERE:** Instead of mapping to a category, we will count the matched keywords directly.\n",
        "# We use .dropna() to remove rows where no health keyword was matched.\n",
        "keyword_counts = search_df['matched_keyword'].dropna().value_counts().reset_index()\n",
        "keyword_counts.columns = ['Matched Keyword', 'Search Count']\n",
        "\n",
        "\n",
        "# --- 4. VISUALIZATION (MODIFIED FOR ORIGINAL KEYWORDS) ---\n",
        "\n",
        "print(\"\\n--- Final Aggregated Counts (by Original Matched Keyword) ---\")\n",
        "if keyword_counts.empty:\n",
        "    print(\"No health-related search terms were found that met the matching criteria.\")\n",
        "else:\n",
        "    # Sort the results for a cleaner chart\n",
        "    keyword_counts = keyword_counts.sort_values(by='Search Count', ascending=False)\n",
        "    print(keyword_counts)\n",
        "\n",
        "    # Create the plot\n",
        "    plt.figure(figsize=(12, 8))\n",
        "    sns.set_style(\"whitegrid\")\n",
        "\n",
        "    # **CHANGE HERE:** We use 'Matched Keyword' for the y-axis\n",
        "    barplot = sns.barplot(\n",
        "        x='Search Count',\n",
        "        y='Matched Keyword', # This now uses the original keyword\n",
        "        data=keyword_counts,\n",
        "        palette='plasma'\n",
        "    )\n",
        "\n",
        "    plt.title('Health-Related Search Keywords in Lesotho', fontsize=18, weight='bold', pad=20)\n",
        "    plt.xlabel('Number of Searches', fontsize=14)\n",
        "    plt.ylabel('Matched Search Keyword', fontsize=14) # Updated axis label\n",
        "\n",
        "    # Add data labels\n",
        "    for index, value in enumerate(keyword_counts['Search Count']):\n",
        "        plt.text(value, index, f' {value}', va='center', fontsize=12)\n",
        "\n",
        "    plt.tight_layout()\n",
        "    plt.savefig('original_keywords_chart.png', dpi=300)\n",
        "    plt.show()"
      ],
      "metadata": {
        "colab": {
          "base_uri": "https://localhost:8080/",
          "height": 981
        },
        "id": "OKA5hK3KiCLo",
        "outputId": "b8bd719a-b67f-438b-c590-025c22894aa1"
      },
      "execution_count": null,
      "outputs": [
        {
          "output_type": "stream",
          "name": "stdout",
          "text": [
            "\n",
            "--- Final Aggregated Counts (by Original Matched Keyword) ---\n",
            "  Matched Keyword  Search Count\n",
            "0        abortion             4\n",
            "1    hand washing             3\n"
          ]
        },
        {
          "output_type": "stream",
          "name": "stderr",
          "text": [
            "/tmp/ipython-input-9-726230873.py:72: FutureWarning: \n",
            "\n",
            "Passing `palette` without assigning `hue` is deprecated and will be removed in v0.14.0. Assign the `y` variable to `hue` and set `legend=False` for the same effect.\n",
            "\n",
            "  barplot = sns.barplot(\n"
          ]
        },
        {
          "output_type": "display_data",
          "data": {
            "text/plain": [
              "<Figure size 1200x800 with 1 Axes>"
            ],
            "image/png": "[encoded data removed]"
          },
          "metadata": {}
        }
      ]
    },
    {
      "cell_type": "code",
      "source": [
        "# --- 1. SETUP & CONFIGURATION (Now including 'cholera') ---\n",
        "\n",
        "# Define all activity types that count as a \"search\"\n",
        "SEARCH_ACTIVITY_TYPES = ['search', 'keyword_search', 'advanced_search']\n",
        "\n",
        "# **UPDATED** list of health terms we are looking for.\n",
        "health_keywords = [\n",
        "    'cholera', # <-- ADDED THIS KEYWORD\n",
        "    'cancer', 'hand washing', 'abortion', 'who',\n",
        "    'malaria', 'tropical diseases', 'helminthiasis', 'chromoblastomycosis', 'taeniasis',\n",
        "    'cysticercosis', 'leprosy', 'rabies', 'respiratory', 'flu', 'influenza', 'stroke',\n",
        "    'alzheimer', 'depression', 'anxiety', 'diabetes', 'blood sugar', 'alcohol',\n",
        "    'pregnancy', 'newborns', 'breastfeeding', 'heart', 'disease', 'sick', 'ill', 'cough', 'sleep', 'nutrition'\n",
        "]\n",
        "\n",
        "\n",
        "# --- 2. FUZZY MATCHING & DATA CLEANING FUNCTION ---\n",
        "# (This function remains the same, as it's already built to handle new keywords)\n",
        "\n",
        "def clean_and_match(query, choices, score_cutoff=85):\n",
        "    \"\"\"\n",
        "    Cleans the query string and then finds the best fuzzy match.\n",
        "    \"\"\"\n",
        "    if not isinstance(query, str) or not query:\n",
        "        return None\n",
        "\n",
        "    cleaned_query = re.sub(r'[^a-zA-Z0-9\\s]', '', query).strip().lower()\n",
        "    if not cleaned_query:\n",
        "        return None\n",
        "\n",
        "    best_match = process.extractOne(cleaned_query, choices)\n",
        "\n",
        "    if best_match and best_match[1] >= score_cutoff:\n",
        "        return best_match[0]\n",
        "    return None\n",
        "\n",
        "\n",
        "# --- 3. DATA ANALYSIS PIPELINE ---\n",
        "\n",
        "# Filter for rows where activity_type is one of our defined search types\n",
        "search_df = df[df['activity_type'].isin(SEARCH_ACTIVITY_TYPES)].copy()\n",
        "\n",
        "# Apply our cleaning and fuzzy matching function to the 'keyword' column\n",
        "search_df['matched_keyword'] = search_df['keyword'].apply(\n",
        "    lambda x: clean_and_match(x, health_keywords)\n",
        ")\n",
        "\n",
        "# Count the matched keywords directly\n",
        "keyword_counts = search_df['matched_keyword'].dropna().value_counts().reset_index()\n",
        "keyword_counts.columns = ['Matched Keyword', 'Search Count']\n",
        "\n",
        "\n",
        "# --- 4. VISUALIZATION ---\n",
        "\n",
        "print(\"\\n--- Final Aggregated Counts (with 'Cholera' included) ---\")\n",
        "if keyword_counts.empty:\n",
        "    print(\"No health-related search terms were found that met the matching criteria.\")\n",
        "else:\n",
        "    # Sort the results for a cleaner chart\n",
        "    keyword_counts = keyword_counts.sort_values(by='Search Count', ascending=False)\n",
        "    print(keyword_counts)\n",
        "\n",
        "    # Create the plot\n",
        "    plt.figure(figsize=(12, 8))\n",
        "    sns.set_style(\"whitegrid\")\n",
        "\n",
        "    barplot = sns.barplot(\n",
        "        x='Search Count',\n",
        "        y='Matched Keyword',\n",
        "        data=keyword_counts,\n",
        "        palette='plasma'\n",
        "    )\n",
        "\n",
        "    plt.title('Health-Related Search Keywords in Lesotho', fontsize=18, weight='bold', pad=20)\n",
        "    plt.xlabel('Number of Searches', fontsize=14)\n",
        "    plt.ylabel('Matched Search Keyword', fontsize=14)\n",
        "\n",
        "    # Add data labels\n",
        "    for index, value in enumerate(keyword_counts['Search Count']):\n",
        "        plt.text(value, index, f' {value}', va='center', fontsize=12)\n",
        "\n",
        "    plt.tight_layout()\n",
        "    plt.savefig('final_keywords_with_cholera_chart.png', dpi=300)\n",
        "    plt.show()"
      ],
      "metadata": {
        "colab": {
          "base_uri": "https://localhost:8080/",
          "height": 981
        },
        "id": "XbvlJG9-l1lK",
        "outputId": "30f57bea-1e53-49ca-fee4-6f0d3eaa9341"
      },
      "execution_count": null,
      "outputs": [
        {
          "output_type": "stream",
          "name": "stdout",
          "text": [
            "\n",
            "--- Final Aggregated Counts (with 'Cholera' included) ---\n",
            "  Matched Keyword  Search Count\n",
            "0        abortion             4\n",
            "1    hand washing             3\n"
          ]
        },
        {
          "output_type": "stream",
          "name": "stderr",
          "text": [
            "/tmp/ipython-input-10-834712312.py:67: FutureWarning: \n",
            "\n",
            "Passing `palette` without assigning `hue` is deprecated and will be removed in v0.14.0. Assign the `y` variable to `hue` and set `legend=False` for the same effect.\n",
            "\n",
            "  barplot = sns.barplot(\n"
          ]
        },
        {
          "output_type": "display_data",
          "data": {
            "text/plain": [
              "<Figure size 1200x800 with 1 Axes>"
            ],
            "image/png": "[encoded data removed]"
          },
          "metadata": {}
        }
      ]
    },
    {
      "cell_type": "code",
      "source": [
        "# --- DIAGNOSTIC CELL: Find any mention of 'cholera' ---\n",
        "\n",
        "# We will search for the substring 'chol' to catch all variations (cholera, choleai, choilor)\n",
        "search_string = 'chol'\n",
        "\n",
        "# Ensure the DataFrame 'df' exists\n",
        "if 'df' in locals():\n",
        "    # Convert the 'keyword' column to string type to avoid errors, and make it case-insensitive\n",
        "    keyword_series = df['keyword'].astype(str).str.lower()\n",
        "\n",
        "    # Create a 'mask' to find all rows where the keyword contains our search_string\n",
        "    cholera_rows = df[keyword_series.str.contains(search_string, na=False)]\n",
        "\n",
        "    # --- Now, let's look at the results ---\n",
        "\n",
        "    if not cholera_rows.empty:\n",
        "        print(f\"--- SUCCESS! Found {len(cholera_rows)} rows containing '{search_string}'. ---\")\n",
        "        print(\"Here are the details of those rows:\")\n",
        "\n",
        "        # Display the relevant columns for the found rows\n",
        "        print(cholera_rows[['keyword', 'activity_type']])\n",
        "\n",
        "    else:\n",
        "        print(f\"--- PROBLEM IDENTIFIED ---\")\n",
        "        print(f\"The string '{search_string}' was NOT FOUND anywhere in the 'keyword' column of your file.\")\n",
        "        print(\"\\nThis means the 'cholera' search data is not in the 'Combined2023-2025' file you uploaded.\")\n",
        "        print(\"The screenshot from your manager might be from a different data export.\")\n",
        "\n",
        "else:\n",
        "    print(\"DataFrame 'df' not found. Please make sure you have loaded your data file first.\")"
      ],
      "metadata": {
        "colab": {
          "base_uri": "https://localhost:8080/"
        },
        "id": "Po5v5Lr4mzOL",
        "outputId": "5f2b6aac-a67b-4fe6-e860-363d8f96e1da"
      },
      "execution_count": null,
      "outputs": [
        {
          "output_type": "stream",
          "name": "stdout",
          "text": [
            "--- PROBLEM IDENTIFIED ---\n",
            "The string 'chol' was NOT FOUND anywhere in the 'keyword' column of your file.\n",
            "\n",
            "This means the 'cholera' search data is not in the 'Combined2023-2025' file you uploaded.\n",
            "The screenshot from your manager might be from a different data export.\n"
          ]
        }
      ]
    },
    {
      "cell_type": "code",
      "source": [
        "if 'df' in locals():\n",
        "    print(\"--- 1. Unique values in 'activity_type' ---\")\n",
        "    print(df['activity_type'].unique())\n",
        "    print(\"\\n\" + \"=\"*50 + \"\\n\")\n",
        "    print(\"--- 2. Sample of unique queries in TITLE column ---\")  ### CHANGED label\n",
        "    unique_queries = df[search_term_column_name].dropna().unique()\n",
        "    print(f\"Found {len(unique_queries)} unique queries.\")\n",
        "    print(\"Showing the first 100:\")\n",
        "    print(unique_queries[:100])\n",
        "else:\n",
        "    print(\"DataFrame 'df' not found. Please load your data first.\")"
      ],
      "metadata": {
        "colab": {
          "base_uri": "https://localhost:8080/"
        },
        "id": "Y8J2TvAWv6qn",
        "outputId": "3fb7c731-b021-4ea1-ab3e-224c8d509e8c"
      },
      "execution_count": null,
      "outputs": [
        {
          "output_type": "stream",
          "name": "stdout",
          "text": [
            "--- 1. Unique values in 'activity_type' ---\n",
            "['access_content' 'open_module' 'search' 'download_file' 'keyword_search'\n",
            " 'advanced_search']\n",
            "\n",
            "==================================================\n",
            "\n",
            "--- 2. Sample of unique queries in TITLE column ---\n",
            "Found 6105 unique queries.\n",
            "Showing the first 100:\n",
            "['2D Shapes for Teachers' 'GST - Creating a good school booklet'\n",
            " 'GST - How do You Use Your Power? Book'\n",
            " 'GST- What is Good Learning Environment? Booklet' 'HIV Stigma Fact Sheet'\n",
            " 'HIV Stigma Scale- 12 Item (short) Version'\n",
            " 'How to Use an Internal (Female) Condom' 'Ways HIV is NOT Transmitted'\n",
            " 'Flu' 'STC' 'http://10.10.10.10:8080/viewer#wiktionary_st_all_maxi'\n",
            " 'http://10.10.10.10:8080/viewer#wikipedia_en_for_schools_maxi/'\n",
            " 'global-health' 'phet' 'lesotho' 'Goat, Dog, And Cow With Tv' 'HIV'\n",
            " 'Safer-Sex Chat Cheat Sheet' 'Absolute Value and Number Lines Example 1'\n",
            " '60 A Day!' 'Are My Kids Getting Enough Physical Activity?'\n",
            " 'Reach for the Sky Lyrics' 'COV-Ed: Mythbusters! COVID-19 Edition'\n",
            " 'Different Abilities: Anthonet Charlie' 'voiceofam'\n",
            " 'Bridges Grade 1 Practice Book - 1st Edition' 'Introduction to Addition'\n",
            " 'Introduction to Regrouping'\n",
            " '2019 Speaking CASS (Public Speaking Activity)' 'Essay Revision'\n",
            " 'Area of a rectangle' 'Local resources ' 'LITHOKO TSA MARENA A LESOTHO'\n",
            " 'Grade 04 Peace Corps Examination (English)' 'Mosuoetsana Lineo'\n",
            " 'Grade 04 Peace Corps Examination Teacher Guide (English)'\n",
            " 'Grade 07 Peace Corps Examination Teacher Guide (English)'\n",
            " 'Integrated Primary Curriculum Grade 04 Syllabus'\n",
            " 'Integrated Primary Curriculum Grade 06 Syllabus'\n",
            " 'Grade 05 Peace Corps Examination (English)'\n",
            " 'GST- Primary Schools Step 01 (Your Team & Network)'\n",
            " 'GST- What is a Good School?'\n",
            " 'GST - Corporal Punishment Alternatives Poster'\n",
            " 'Grade 07 Peace Corps Examination (English)'\n",
            " 'Integrated Primary Curriculum Grade 05 Syllabus'\n",
            " 'Grade 7 Social Sciences Syllabus' 'Adding Fractions Example 1'\n",
            " 'Units of Capacity - Problem Solving'\n",
            " 'Integrated Primary Curriculum Grade 07 Syllabus'\n",
            " 'Calculating with Decimals and Fractions'\n",
            " 'Finding the Mean of a Data Set' 'Basic Probabilities'\n",
            " 'BUKA EA NGOANA EA HO ITHUTA HO BALA LE HO NGOLA GRADE 07'\n",
            " 'Moon Phases 2020 - Southern Hemisphere - 4K' 'Scale of the Galaxy'\n",
            " 'Exploring Our Solar System (Level 03) ' 'Circumference of a Circle'\n",
            " 'Decimal Competency Packet' 'Basic Geometry - Area'\n",
            " 'Equivalent Fractions Example 1' 'Fraction Facts'\n",
            " 'Bridges Grade 4 Practice Book - 1st Edition'\n",
            " 'Introduction to Multiplication' 'Stroke Education' 'Diagram of an Atom'\n",
            " 'Energy Sources' 'How Do Cells Work' 'Mitosis'\n",
            " 'Understanding Trauma- Learning Brain vs Survival Brain' 'Bacteria'\n",
            " 'Moon phases' 'Moon' 'WHO Recommendations on Maternal Health'\n",
            " 'BUKA EA NGOANA EA HO ITHUTA HO BALA LE HO NGOLA GRADE 05'\n",
            " 'SAT Educator Guide' 'My Hero Is You: How Kids Can Fight COVID-19!'\n",
            " 'SAT Practice Lesson Plans - Introduction and User Guide'\n",
            " 'Carbon Nanotubes Risks' 'Lesson plan' 'SolarSPELL Lesson Plan Template'\n",
            " 'An atom' 'Writing Test Section' 'An atom video ' 'Corroding Metals'\n",
            " 'Set' 'Sets - Basics' 'Sets - Cardinality' 'Creating Venn Diagrams'\n",
            " 'Boolean Set Operations' 'Classroom Tip: Ready, Set, Read'\n",
            " 'Equivalent set' 'The Fun of Phonics: Set 01 Sounds'\n",
            " 'Sets - Writing an Expression for a Venn Diagram Region' 'Feature'\n",
            " 'Natural' 'Grade 4 Math Activities' 'Equivalent' 'Exam Scores' 'Mountain'\n",
            " 'Introduction to Geography']\n"
          ]
        }
      ]
    },
    {
      "cell_type": "code",
      "source": [
        "# Save the aggregated table (category_counts) to a CSV file\n",
        "output_csv = \"lesotho_search_terms_table.csv\"\n",
        "category_counts.to_csv(output_csv, index=False)\n",
        "\n"
      ],
      "metadata": {
        "colab": {
          "base_uri": "https://localhost:8080/"
        },
        "id": "xqHcdEghwNF5",
        "outputId": "af1bf587-246e-4ac9-a89f-46bbeecb3d37"
      },
      "execution_count": null,
      "outputs": [
        {
          "output_type": "stream",
          "name": "stdout",
          "text": [
            "lesotho_search_terms_table.csv\n"
          ]
        }
      ]
    },
    {
      "cell_type": "code",
      "source": [
        "print(category_counts)"
      ],
      "metadata": {
        "id": "XSeCsWVSxwZo",
        "outputId": "20c6d9b5-403d-4d63-fdbf-4f4c7fbe34f4",
        "colab": {
          "base_uri": "https://localhost:8080/"
        }
      },
      "execution_count": null,
      "outputs": [
        {
          "output_type": "stream",
          "name": "stdout",
          "text": [
            "         Health Category  Search Count\n",
            "1       General Sickness           126\n",
            "2               Diabetes            26\n",
            "3  Maternal/Child Health            14\n",
            "4        Respiratory/Flu             7\n",
            "5          Heart Disease             3\n",
            "6          Substance Use             2\n",
            "7              Nutrition             1\n"
          ]
        }
      ]
    },
    {
      "cell_type": "code",
      "source": [
        "search_df.to_csv(\"lesotho_raw_search_data.csv\", index=False)"
      ],
      "metadata": {
        "id": "OdPrfis0xRTH"
      },
      "execution_count": null,
      "outputs": []
    }
  ]
}