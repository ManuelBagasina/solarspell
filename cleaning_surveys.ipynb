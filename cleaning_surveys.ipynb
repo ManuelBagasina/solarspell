{
  "nbformat": 4,
  "nbformat_minor": 0,
  "metadata": {
    "colab": {
      "provenance": [],
      "authorship_tag": "ABX9TyPhCkFvJvIVfmGrQsnxl4Fy",
      "include_colab_link": true
    },
    "kernelspec": {
      "name": "python3",
      "display_name": "Python 3"
    },
    "language_info": {
      "name": "python"
    }
  },
  "cells": [
    {
      "cell_type": "markdown",
      "metadata": {
        "id": "view-in-github",
        "colab_type": "text"
      },
      "source": [
        "<a href=\"https://colab.research.google.com/github/ManuelBagasina/solarspell/blob/main/cleaning_surveys.ipynb\" target=\"_parent\"><img src=\"https://colab.research.google.com/assets/colab-badge.svg\" alt=\"Open In Colab\"/></a>"
      ]
    },
    {
      "cell_type": "markdown",
      "source": [
        "# Setup"
      ],
      "metadata": {
        "id": "AE0_ZwMZJOQl"
      }
    },
    {
      "cell_type": "markdown",
      "source": [
        "## Install Libraries"
      ],
      "metadata": {
        "id": "nCc7qXtEI-DO"
      }
    },
    {
      "cell_type": "code",
      "execution_count": null,
      "metadata": {
        "id": "DFm9VYwZIi_I"
      },
      "outputs": [],
      "source": [
        "# !pip install numpy pandas\n",
        "import numpy as np\n",
        "import re\n",
        "import pandas as pd"
      ]
    },
    {
      "cell_type": "markdown",
      "source": [
        "## Load csv"
      ],
      "metadata": {
        "id": "SAY-X1pUJREV"
      }
    },
    {
      "cell_type": "code",
      "source": [
        "# 1. Load\n",
        "df = pd.read_csv('sudan_survey.csv')"
      ],
      "metadata": {
        "id": "8YTO148VJSqH"
      },
      "execution_count": null,
      "outputs": []
    },
    {
      "cell_type": "markdown",
      "source": [
        "# Cleaning Data"
      ],
      "metadata": {
        "id": "RMS4Y8s8Jmxs"
      }
    },
    {
      "cell_type": "code",
      "source": [
        "# 2. Define mapping (all keys lowercased)\n",
        "likert_fuzzy_map = {\n",
        "    # Strongly Agree\n",
        "    \"significantly better\":      \"STRONGLY AGREE\",\n",
        "    \"very improved\":             \"STRONGLY AGREE\",\n",
        "    \"very motivated\":            \"STRONGLY AGREE\",\n",
        "    \"very useful\":               \"STRONGLY AGREE\",\n",
        "    \"completely addresses gaps\": \"STRONGLY AGREE\",\n",
        "    \"very comfortable\":          \"STRONGLY AGREE\",\n",
        "\n",
        "    # Agree\n",
        "    \"improved\":                  \"AGREE\",\n",
        "    \"motivated\":                 \"AGREE\",\n",
        "    \"useful\":                    \"AGREE\",\n",
        "    \"addresses gaps\":            \"AGREE\",\n",
        "    \"comfortable\":               \"AGREE\",\n",
        "\n",
        "    # Neutral\n",
        "    \"somewhat improved\":         \"NEUTRAL\",\n",
        "    \"somewhat motivated\":        \"NEUTRAL\",\n",
        "    \"somewhat useful\":           \"NEUTRAL\",\n",
        "    \"slightly improved\":         \"NEUTRAL\",\n",
        "    \"partially addresses gaps\":  \"NEUTRAL\",\n",
        "    \"somewhat comfortable\":      \"NEUTRAL\",\n",
        "    \"no change\":                 \"NEUTRAL\",\n",
        "    \"no changes\":                \"NEUTRAL\",\n",
        "\n",
        "    # Disagree\n",
        "    \"not motivated\":             \"DISAGREE\",\n",
        "    \"not useful\":                \"DISAGREE\",\n",
        "    \"not comfortable\":           \"DISAGREE\",\n",
        "    \"not better\":                \"DISAGREE\",\n",
        "    \"does not address gaps\":     \"DISAGREE\",\n",
        "\n",
        "    # Strongly Disagree\n",
        "    \"worse\":                     \"STRONGLY DISAGREE\",\n",
        "    \"not at all useful\":         \"STRONGLY DISAGREE\",\n",
        "    \"very discomfortable\":       \"STRONGLY DISAGREE\",\n",
        "    \"not at all motivated\":      \"STRONGLY DISAGREE\",\n",
        "\n",
        "    # Missing values\n",
        "    \"n/a\":                       None,\n",
        "    \"\":                          None\n",
        "}"
      ],
      "metadata": {
        "id": "xkW6opZZLqoQ"
      },
      "execution_count": null,
      "outputs": []
    },
    {
      "cell_type": "code",
      "source": [
        "# 3. Exclude non-Likert columns (from form review)\n",
        "excluded_cols = [\n",
        "    \"(IF YES IN-PERSON) WHY DID YOU CHOOSE THIS LEVEL OF USEFULNESS?\",\n",
        "    \"(IF YES OFFLINE TRAINING COURSE) WHY DID YOU CHOOSE THIS LEVEL OF USEFULNESS?\",\n",
        "    \"DO YOU USE THE SOLARSPELL LIBRARY TO TEACH ABOUT CLIMATE CHANGE & SUSTAINABILITY?\",\n",
        "    \"DO YOU USE THE SOLARSPELL LIBRARY TO TEACH ABOUT GENDER EQUITY AND INCLUSION?\",\n",
        "    \"DO YOU USE THE SOLARSPELL LIBRARY TO TEACH ABOUT INFORMATION LITERACY?\",\n",
        "    \"DO YOU USE THE SOLARSPELL LIBRARY TO TEACH ABOUT DIGITAL LITERACY?\",\n",
        "    \"FOR QUESTIONS 31-33 (IMPROVED/BETTER SKILLS), PLEASE DESCRIBE WHY YOU CHOSE THESE LEVELS\",\n",
        "    \"PLEASE PROVIDE SOME EXAMPLES OF THE MOST POPULAR OR USEFUL CONTENT ON THE SOLARSPELL LIBRARY\",\n",
        "    \"DESCRIBE WHY YOU CHOSE THIS LEVEL\",\n",
        "    \"WHY DID YOU CHOOSE THESE LEVELS FOR QUESTIONS 17-20 (MOTIVATION AND PREPAREDNESS)\",\n",
        "    \"IF YOU ANSWERED YES FOR QUESTIONS 26-29 (\\\"DO YOU USE SOLARSPELL TO TEACH ABOUT...\\\") PLEASE SHARE MORE INFORMATION (FOR EXAMPLE: AN EXAMPLE OF HOW THE RESOURCE IS USED? THE MOST POPULAR CONTENT? VIDEOS OR WORKSHEETS? ANY INFO WELCOME)\",\n",
        "    \"PLEASE PROVIDE ANY ADDITIONAL INFORMATION TO SUPPORT YOUR RESPONSES TO QUESTIONS 40-45 (RE: STUDENTS)\",\n",
        "    \"ADDITIONAL THOUGHTS, COMMENTS, AND/OR QUESTIONS\"\n",
        "]"
      ],
      "metadata": {
        "id": "52mHMCRKNIw_"
      },
      "execution_count": null,
      "outputs": []
    },
    {
      "cell_type": "code",
      "source": [
        "# 4. Keywords to identify Likert-style questions\n",
        "keywords = [\n",
        "    \"improved\", \"motivation\", \"motivat\", \"useful\", \"comfortable\", \"prepared\",\n",
        "    \"better\", \"address\", \"confidence\", \"extent\"\n",
        "]"
      ],
      "metadata": {
        "id": "3_MPtHCAYV7K"
      },
      "execution_count": null,
      "outputs": []
    },
    {
      "cell_type": "code",
      "source": [
        "# 5. Build Likert columns list\n",
        "likert_cols = [\n",
        "    col for col in df.columns\n",
        "    if any(k in col.lower() for k in keywords) and col not in excluded_cols\n",
        "]"
      ],
      "metadata": {
        "id": "Ze10ni4lABBE"
      },
      "execution_count": null,
      "outputs": []
    },
    {
      "cell_type": "code",
      "source": [
        "# 6. Define the cleaning function\n",
        "def clean_likert_cell(val):\n",
        "    if isinstance(val, str):\n",
        "        norm = val.strip().lower()\n",
        "        for phrase, label in likert_fuzzy_map.items():\n",
        "            if phrase in norm:\n",
        "                return label\n",
        "    return val  # unchanged"
      ],
      "metadata": {
        "id": "Icz4q7Pw5-hv"
      },
      "execution_count": null,
      "outputs": []
    },
    {
      "cell_type": "code",
      "source": [
        "# 7. Apply mapping\n",
        "for col in likert_cols:\n",
        "    df[col] = df[col].apply(clean_likert_cell)"
      ],
      "metadata": {
        "id": "vjebeGtSADsf"
      },
      "execution_count": null,
      "outputs": []
    },
    {
      "cell_type": "code",
      "source": [
        "# 8. Save cleaned dataset\n",
        "df.to_csv(\"South_Sudan_Survey_CLEANED_FINAL.csv\", index=False)\n",
        "print(\"✅ Cleaned Likert responses saved to South_Sudan_Survey_CLEANED_FINAL.csv\")"
      ],
      "metadata": {
        "id": "52mu5G9DAEen",
        "colab": {
          "base_uri": "https://localhost:8080/"
        },
        "outputId": "29139f15-f6c7-45ba-c6cc-a45b8766407d"
      },
      "execution_count": null,
      "outputs": [
        {
          "output_type": "stream",
          "name": "stdout",
          "text": [
            "✅ Cleaned Likert responses saved to South_Sudan_Survey_CLEANED_FINAL.csv\n"
          ]
        }
      ]
    },
    {
      "cell_type": "code",
      "source": [
        "# 9. Audit: Check for unexpected values\n",
        "print(\"\\n🔎 Unmapped Values by Column:\")\n",
        "for col in likert_cols:\n",
        "    unique_vals = [v for v in df[col].dropna().unique()\n",
        "                   if v not in [\"STRONGLY AGREE\", \"AGREE\", \"NEUTRAL\", \"DISAGREE\", \"STRONGLY DISAGREE\"]]\n",
        "    if unique_vals:\n",
        "        print(f\"⚠️ {col}: {unique_vals}\")\n",
        "    else:\n",
        "        print(f\"✅ {col}: all values mapped\")"
      ],
      "metadata": {
        "colab": {
          "base_uri": "https://localhost:8080/"
        },
        "id": "VrtE4LfS6-el",
        "outputId": "f2f81a7d-84af-4b62-8aae-e2598d306e84"
      },
      "execution_count": null,
      "outputs": [
        {
          "output_type": "stream",
          "name": "stdout",
          "text": [
            "\n",
            "🔎 Unmapped Values by Column:\n",
            "✅ (IF YES IN-PERSON) HOW USEFUL WAS THE TRAINING YOU RECEIVED ON THE SOLARSPELL LIBRARY: all values mapped\n",
            "✅ (IF YES OFFLINE TRAINING COURSE) HOW USEFUL WAS THE TRAINING YOU RECEIVED ON THE SOLARSPELL LIBRARY: all values mapped\n",
            "✅ HOW MOTIVATED ARE YOU TO USE THE SOLARSPELL LIBRARY?: all values mapped\n",
            "✅ TO WHAT EXTENT HAS USING THE SOLARSPELL AFFECTED YOUR LEVEL OF MOTIVATION AS A TEACHER: all values mapped\n",
            "✅ TO WHAT EXTENT HAS USING THE SOLARSPELL MADE YOU FEEL MORE PREPARED OR ABLE TO MORE EFFECTIVELY DO YOUR JOB?: all values mapped\n",
            "✅ AS A TEACHER, TO WHAT EXTEND DOES THE SOLARSPELL LIBRARY ADDRESS THE RESOURCE GAPS THAT YOU HAVE?: all values mapped\n",
            "✅ SINCE USING SOLARSPELL, ARE YOU BETTER ABLE TO USE OTHER SIMILAR FORMS OF TECHNOLOGY (LIKE THE INTERNET, TABLETS, SMARTPHONES, COMPUTERS)?: all values mapped\n",
            "✅ SINCE USING SOLARSPELL, ARE YOU BETTER ABLE TO CARRY OUT RESEARCH OR FIND NEW INFORMATION?: all values mapped\n",
            "✅ IN GENERAL, HOW COMFORTABLE ARE STUDENTS IN USING THE SOLARSPELL LIBRARY?: all values mapped\n",
            "✅ When using the SolarSPELL library in class, what changes have you observed in your students' level of motivation in the lesson: all values mapped\n",
            "✅ HOW USEFUL IS THE LIBRARY FOR SUPPORTING YOUR STUDENTS' EDUCATION?: all values mapped\n",
            "✅ SINCE USING THE SOLARSPELL LIBRARY, DO YOU THINK THAT STUDENTS ARE BETTER ABLE TO USE OTHER SIMILAR FORMS OF TECHNOLOGY (LIKE THE INTERNET, TABLETS, SMARTPHONES, COMPUTERS)?: all values mapped\n",
            "✅ TO WHAT EXTENT ARE STUDENTS WHO USE THE SOLARSPELL LIBRARY BETTER ABLE TO CARRY OUT RESEARCH OR FIND NEW INFORMATION?: all values mapped\n"
          ]
        }
      ]
    }
  ]
}