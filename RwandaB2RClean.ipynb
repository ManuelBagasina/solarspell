{
  "cells": [
    {
      "cell_type": "markdown",
      "metadata": {
        "id": "view-in-github",
        "colab_type": "text"
      },
      "source": [
        "<a href=\"https://colab.research.google.com/github/ManuelBagasina/solarspell/blob/playground/RwandaB2RClean.ipynb\" target=\"_parent\"><img src=\"https://colab.research.google.com/assets/colab-badge.svg\" alt=\"Open In Colab\"/></a>"
      ]
    },
    {
      "cell_type": "markdown",
      "source": [
        "# Notes"
      ],
      "metadata": {
        "id": "mYRicl_RQOLD"
      }
    },
    {
      "cell_type": "markdown",
      "source": [
        "Amy's notes: https://docs.google.com/document/d/1-4Lzom5cNE2BzIqJ8_i6_on2eXxcBIQJ5eD72E_QZZk/edit?tab=t.0#heading=h.3e1ixdtymtso\n",
        "\n",
        "Kadeeja's: https://docs.google.com/document/d/178cewOnabbWzSV6WFniU7miAfDY8Ms2lro4aJ-tbO5c/edit?tab=t.0\n"
      ],
      "metadata": {
        "id": "KkxP8x-kQQND"
      }
    },
    {
      "cell_type": "markdown",
      "metadata": {
        "id": "56iAdln2oxig"
      },
      "source": [
        "# Setup"
      ]
    },
    {
      "cell_type": "code",
      "execution_count": 1,
      "metadata": {
        "colab": {
          "base_uri": "https://localhost:8080/",
          "height": 73
        },
        "id": "_k_ayKpYlyDX",
        "outputId": "011fdced-2ed8-42ae-c0c7-7f4ee551c938"
      },
      "outputs": [
        {
          "output_type": "display_data",
          "data": {
            "text/plain": [
              "<IPython.core.display.HTML object>"
            ],
            "text/html": [
              "\n",
              "     <input type=\"file\" id=\"files-d1f35580-7966-45a5-83b8-0a0ece94c835\" name=\"files[]\" multiple disabled\n",
              "        style=\"border:none\" />\n",
              "     <output id=\"result-d1f35580-7966-45a5-83b8-0a0ece94c835\">\n",
              "      Upload widget is only available when the cell has been executed in the\n",
              "      current browser session. Please rerun this cell to enable.\n",
              "      </output>\n",
              "      <script>// Copyright 2017 Google LLC\n",
              "//\n",
              "// Licensed under the Apache License, Version 2.0 (the \"License\");\n",
              "// you may not use this file except in compliance with the License.\n",
              "// You may obtain a copy of the License at\n",
              "//\n",
              "//      http://www.apache.org/licenses/LICENSE-2.0\n",
              "//\n",
              "// Unless required by applicable law or agreed to in writing, software\n",
              "// distributed under the License is distributed on an \"AS IS\" BASIS,\n",
              "// WITHOUT WARRANTIES OR CONDITIONS OF ANY KIND, either express or implied.\n",
              "// See the License for the specific language governing permissions and\n",
              "// limitations under the License.\n",
              "\n",
              "/**\n",
              " * @fileoverview Helpers for google.colab Python module.\n",
              " */\n",
              "(function(scope) {\n",
              "function span(text, styleAttributes = {}) {\n",
              "  const element = document.createElement('span');\n",
              "  element.textContent = text;\n",
              "  for (const key of Object.keys(styleAttributes)) {\n",
              "    element.style[key] = styleAttributes[key];\n",
              "  }\n",
              "  return element;\n",
              "}\n",
              "\n",
              "// Max number of bytes which will be uploaded at a time.\n",
              "const MAX_PAYLOAD_SIZE = 100 * 1024;\n",
              "\n",
              "function _uploadFiles(inputId, outputId) {\n",
              "  const steps = uploadFilesStep(inputId, outputId);\n",
              "  const outputElement = document.getElementById(outputId);\n",
              "  // Cache steps on the outputElement to make it available for the next call\n",
              "  // to uploadFilesContinue from Python.\n",
              "  outputElement.steps = steps;\n",
              "\n",
              "  return _uploadFilesContinue(outputId);\n",
              "}\n",
              "\n",
              "// This is roughly an async generator (not supported in the browser yet),\n",
              "// where there are multiple asynchronous steps and the Python side is going\n",
              "// to poll for completion of each step.\n",
              "// This uses a Promise to block the python side on completion of each step,\n",
              "// then passes the result of the previous step as the input to the next step.\n",
              "function _uploadFilesContinue(outputId) {\n",
              "  const outputElement = document.getElementById(outputId);\n",
              "  const steps = outputElement.steps;\n",
              "\n",
              "  const next = steps.next(outputElement.lastPromiseValue);\n",
              "  return Promise.resolve(next.value.promise).then((value) => {\n",
              "    // Cache the last promise value to make it available to the next\n",
              "    // step of the generator.\n",
              "    outputElement.lastPromiseValue = value;\n",
              "    return next.value.response;\n",
              "  });\n",
              "}\n",
              "\n",
              "/**\n",
              " * Generator function which is called between each async step of the upload\n",
              " * process.\n",
              " * @param {string} inputId Element ID of the input file picker element.\n",
              " * @param {string} outputId Element ID of the output display.\n",
              " * @return {!Iterable<!Object>} Iterable of next steps.\n",
              " */\n",
              "function* uploadFilesStep(inputId, outputId) {\n",
              "  const inputElement = document.getElementById(inputId);\n",
              "  inputElement.disabled = false;\n",
              "\n",
              "  const outputElement = document.getElementById(outputId);\n",
              "  outputElement.innerHTML = '';\n",
              "\n",
              "  const pickedPromise = new Promise((resolve) => {\n",
              "    inputElement.addEventListener('change', (e) => {\n",
              "      resolve(e.target.files);\n",
              "    });\n",
              "  });\n",
              "\n",
              "  const cancel = document.createElement('button');\n",
              "  inputElement.parentElement.appendChild(cancel);\n",
              "  cancel.textContent = 'Cancel upload';\n",
              "  const cancelPromise = new Promise((resolve) => {\n",
              "    cancel.onclick = () => {\n",
              "      resolve(null);\n",
              "    };\n",
              "  });\n",
              "\n",
              "  // Wait for the user to pick the files.\n",
              "  const files = yield {\n",
              "    promise: Promise.race([pickedPromise, cancelPromise]),\n",
              "    response: {\n",
              "      action: 'starting',\n",
              "    }\n",
              "  };\n",
              "\n",
              "  cancel.remove();\n",
              "\n",
              "  // Disable the input element since further picks are not allowed.\n",
              "  inputElement.disabled = true;\n",
              "\n",
              "  if (!files) {\n",
              "    return {\n",
              "      response: {\n",
              "        action: 'complete',\n",
              "      }\n",
              "    };\n",
              "  }\n",
              "\n",
              "  for (const file of files) {\n",
              "    const li = document.createElement('li');\n",
              "    li.append(span(file.name, {fontWeight: 'bold'}));\n",
              "    li.append(span(\n",
              "        `(${file.type || 'n/a'}) - ${file.size} bytes, ` +\n",
              "        `last modified: ${\n",
              "            file.lastModifiedDate ? file.lastModifiedDate.toLocaleDateString() :\n",
              "                                    'n/a'} - `));\n",
              "    const percent = span('0% done');\n",
              "    li.appendChild(percent);\n",
              "\n",
              "    outputElement.appendChild(li);\n",
              "\n",
              "    const fileDataPromise = new Promise((resolve) => {\n",
              "      const reader = new FileReader();\n",
              "      reader.onload = (e) => {\n",
              "        resolve(e.target.result);\n",
              "      };\n",
              "      reader.readAsArrayBuffer(file);\n",
              "    });\n",
              "    // Wait for the data to be ready.\n",
              "    let fileData = yield {\n",
              "      promise: fileDataPromise,\n",
              "      response: {\n",
              "        action: 'continue',\n",
              "      }\n",
              "    };\n",
              "\n",
              "    // Use a chunked sending to avoid message size limits. See b/62115660.\n",
              "    let position = 0;\n",
              "    do {\n",
              "      const length = Math.min(fileData.byteLength - position, MAX_PAYLOAD_SIZE);\n",
              "      const chunk = new Uint8Array(fileData, position, length);\n",
              "      position += length;\n",
              "\n",
              "      const base64 = btoa(String.fromCharCode.apply(null, chunk));\n",
              "      yield {\n",
              "        response: {\n",
              "          action: 'append',\n",
              "          file: file.name,\n",
              "          data: base64,\n",
              "        },\n",
              "      };\n",
              "\n",
              "      let percentDone = fileData.byteLength === 0 ?\n",
              "          100 :\n",
              "          Math.round((position / fileData.byteLength) * 100);\n",
              "      percent.textContent = `${percentDone}% done`;\n",
              "\n",
              "    } while (position < fileData.byteLength);\n",
              "  }\n",
              "\n",
              "  // All done.\n",
              "  yield {\n",
              "    response: {\n",
              "      action: 'complete',\n",
              "    }\n",
              "  };\n",
              "}\n",
              "\n",
              "scope.google = scope.google || {};\n",
              "scope.google.colab = scope.google.colab || {};\n",
              "scope.google.colab._files = {\n",
              "  _uploadFiles,\n",
              "  _uploadFilesContinue,\n",
              "};\n",
              "})(self);\n",
              "</script> "
            ]
          },
          "metadata": {}
        },
        {
          "output_type": "stream",
          "name": "stdout",
          "text": [
            "Saving ShortRespTranslatedB2R_Rwanda.csv to ShortRespTranslatedB2R_Rwanda (1).csv\n"
          ]
        }
      ],
      "source": [
        "from google.colab import files\n",
        "uploaded = files.upload()"
      ]
    },
    {
      "cell_type": "code",
      "execution_count": 10,
      "metadata": {
        "id": "TIHC_Vq0nIV0"
      },
      "outputs": [],
      "source": [
        "import pandas as pd\n",
        "filename = 'ShortRespTranslatedB2R_Rwanda (1).csv'\\\n",
        "\n",
        "df = pd.read_csv(filename, encoding='latin-1',header=0) # Added encoding parameter"
      ]
    },
    {
      "cell_type": "markdown",
      "source": [
        "# Cleaning"
      ],
      "metadata": {
        "id": "KlQXcMRzP-q3"
      }
    },
    {
      "cell_type": "code",
      "source": [
        "# 2. Column renaming mapping (original -> simplified)\n",
        "rename_map = {\n",
        "    'Have you ever used any content (videos, pdfs, etc) from the SolarSPELL digital library? (see picture below)': 'Used_SS',\n",
        "    'Do you agree or disagree with the following statement: The content from the SolarSPELL library was helpful to me in learning more about conservation agriculture.': 'SS_Helpful_Learning_CA',\n",
        "    'Do you agree or disagree with the following statement: I applied/used information I learned from the SolarSPELL library on my farm.': 'SS_Applied_on_Farm',\n",
        "    'How have you used the information you learned from the SolarSPELL library content?': 'SS_Usage_Examples',\n",
        "    '1. A. Have you planted a CA demo plot of Maize?': 'Planted_CA_Maize',\n",
        "    '1. B.  Have you planted an SP demo plot of Maize?': 'Planted_SP_Maize',\n",
        "    '2. A. What was the area (are) you planted Maize using CA?': 'Area_CA_Maize',\n",
        "    '2. B. What was the area (Are) you planted Maize using SP?': 'Area_SP_Maize',\n",
        "    '3. A. What was the Yield of Maize (Kgs) in CA Demo plot?': 'Yield_CA_Maize',\n",
        "    '3. B. What was the Yield of Maize (Kgs) in SP Demo plot?': 'Yield_SP_Maize',\n",
        "}\n",
        "\n",
        "df = df.rename(columns=rename_map)"
      ],
      "metadata": {
        "id": "XOxxZp-FP5u8"
      },
      "execution_count": 11,
      "outputs": []
    },
    {
      "cell_type": "code",
      "source": [
        "# 3. Standardize yes/no and missing entries\n",
        "binary_map = {'Yego': 'Yes', 'Oya': 'No', 'N/Q': pd.NA, 'N/A': pd.NA}\n",
        "for col in ['Used_SS', 'Planted_CA_Maize', 'Planted_SP_Maize', 'Planted_Other_Crops_2025A',\n",
        "            'Applied_CA_Expansion', 'Trained_CA', 'CA_Continue_Plan']:\n",
        "    if col in df:\n",
        "        df[col] = df[col].replace(binary_map)"
      ],
      "metadata": {
        "id": "K2qxoIstWcB7"
      },
      "execution_count": 12,
      "outputs": []
    },
    {
      "cell_type": "code",
      "source": [
        "# 4. Convert numeric columns\n",
        "numeric_cols = ['Area_CA_Maize', 'Area_SP_Maize', 'Yield_CA_Maize', 'Yield_SP_Maize',\n",
        "                'Area_CA_Expansion', 'Yield_CA_Expansion', 'Num_Trained_Total',\n",
        "                'Num_Trained_Planted_2025B', 'Num_Trained_Planning_2025B',\n",
        "                'Area_Other_Crops_CA', 'Area_Other_Crops_SP', 'Yield_Other_CA_2025A',\n",
        "                'Yield_Other_SP_2025A', 'Area_Other_Crops_Total', 'Num_Seasons_CA']\n",
        "for col in numeric_cols:\n",
        "    if col in df:\n",
        "        df[col] = pd.to_numeric(df[col], errors='coerce')"
      ],
      "metadata": {
        "id": "esUCGxd2WcjK"
      },
      "execution_count": 13,
      "outputs": []
    },
    {
      "cell_type": "code",
      "source": [
        "# 5. Create User_Group\n",
        "# Users who answered Yes in Used_SS are SolarSPELL Users\n",
        "if 'Used_SS' in df:\n",
        "    df['User_Group'] = df['Used_SS'].map({'Yes': 'SolarSPELL User', 'No': 'Non-User'})"
      ],
      "metadata": {
        "id": "1mTttDa4Wd_q"
      },
      "execution_count": 14,
      "outputs": []
    },
    {
      "cell_type": "markdown",
      "source": [
        "# Analysis"
      ],
      "metadata": {
        "id": "6LOVpmROQBT7"
      }
    },
    {
      "cell_type": "code",
      "source": [],
      "metadata": {
        "id": "HOrkWNh0QDE7"
      },
      "execution_count": 22,
      "outputs": []
    },
    {
      "cell_type": "markdown",
      "source": [
        "# Save"
      ],
      "metadata": {
        "id": "nuGkGLNPW62K"
      }
    },
    {
      "cell_type": "code",
      "source": [
        "# Save cleaned dataset\n",
        "df.to_csv('solarSPELL_survey_cleaned.csv', index=False)\n",
        "print(\"Cleaned dataset saved to solarSPELL_survey_cleaned.csv\")\n"
      ],
      "metadata": {
        "colab": {
          "base_uri": "https://localhost:8080/"
        },
        "id": "M8Kf-FL1W7zC",
        "outputId": "fe7f061a-03b2-4e87-d99b-e6d3cb041bd2"
      },
      "execution_count": 19,
      "outputs": [
        {
          "output_type": "stream",
          "name": "stdout",
          "text": [
            "Cleaned dataset saved to solarSPELL_survey_cleaned.csv\n"
          ]
        }
      ]
    }
  ],
  "metadata": {
    "colab": {
      "provenance": [],
      "include_colab_link": true
    },
    "kernelspec": {
      "display_name": "Python 3",
      "name": "python3"
    },
    "language_info": {
      "name": "python"
    }
  },
  "nbformat": 4,
  "nbformat_minor": 0
}