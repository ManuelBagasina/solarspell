{
  "cells": [
    {
      "cell_type": "markdown",
      "metadata": {
        "id": "view-in-github",
        "colab_type": "text"
      },
      "source": [
        "<a href=\"https://colab.research.google.com/github/ManuelBagasina/solarspell/blob/playground/RwandaB2RClean.ipynb\" target=\"_parent\"><img src=\"https://colab.research.google.com/assets/colab-badge.svg\" alt=\"Open In Colab\"/></a>"
      ]
    },
    {
      "cell_type": "markdown",
      "source": [
        "# Notes"
      ],
      "metadata": {
        "id": "mYRicl_RQOLD"
      }
    },
    {
      "cell_type": "markdown",
      "source": [
        "Amy's notes: https://docs.google.com/document/d/1-4Lzom5cNE2BzIqJ8_i6_on2eXxcBIQJ5eD72E_QZZk/edit?tab=t.0#heading=h.3e1ixdtymtso\n",
        "\n",
        "Kadeeja's: https://docs.google.com/document/d/178cewOnabbWzSV6WFniU7miAfDY8Ms2lro4aJ-tbO5c/edit?tab=t.0\n"
      ],
      "metadata": {
        "id": "KkxP8x-kQQND"
      }
    },
    {
      "cell_type": "markdown",
      "metadata": {
        "id": "56iAdln2oxig"
      },
      "source": [
        "# Setup"
      ]
    },
    {
      "cell_type": "code",
      "execution_count": 1,
      "metadata": {
        "colab": {
          "base_uri": "https://localhost:8080/",
          "height": 73
        },
        "id": "_k_ayKpYlyDX",
        "outputId": "73a0c23c-f163-4005-9c8c-82c081e06503"
      },
      "outputs": [
        {
          "output_type": "display_data",
          "data": {
            "text/plain": [
              "<IPython.core.display.HTML object>"
            ],
            "text/html": [
              "\n",
              "     <input type=\"file\" id=\"files-dc19a924-1fff-498f-8d4d-198472e8f90e\" name=\"files[]\" multiple disabled\n",
              "        style=\"border:none\" />\n",
              "     <output id=\"result-dc19a924-1fff-498f-8d4d-198472e8f90e\">\n",
              "      Upload widget is only available when the cell has been executed in the\n",
              "      current browser session. Please rerun this cell to enable.\n",
              "      </output>\n",
              "      <script>// Copyright 2017 Google LLC\n",
              "//\n",
              "// Licensed under the Apache License, Version 2.0 (the \"License\");\n",
              "// you may not use this file except in compliance with the License.\n",
              "// You may obtain a copy of the License at\n",
              "//\n",
              "//      http://www.apache.org/licenses/LICENSE-2.0\n",
              "//\n",
              "// Unless required by applicable law or agreed to in writing, software\n",
              "// distributed under the License is distributed on an \"AS IS\" BASIS,\n",
              "// WITHOUT WARRANTIES OR CONDITIONS OF ANY KIND, either express or implied.\n",
              "// See the License for the specific language governing permissions and\n",
              "// limitations under the License.\n",
              "\n",
              "/**\n",
              " * @fileoverview Helpers for google.colab Python module.\n",
              " */\n",
              "(function(scope) {\n",
              "function span(text, styleAttributes = {}) {\n",
              "  const element = document.createElement('span');\n",
              "  element.textContent = text;\n",
              "  for (const key of Object.keys(styleAttributes)) {\n",
              "    element.style[key] = styleAttributes[key];\n",
              "  }\n",
              "  return element;\n",
              "}\n",
              "\n",
              "// Max number of bytes which will be uploaded at a time.\n",
              "const MAX_PAYLOAD_SIZE = 100 * 1024;\n",
              "\n",
              "function _uploadFiles(inputId, outputId) {\n",
              "  const steps = uploadFilesStep(inputId, outputId);\n",
              "  const outputElement = document.getElementById(outputId);\n",
              "  // Cache steps on the outputElement to make it available for the next call\n",
              "  // to uploadFilesContinue from Python.\n",
              "  outputElement.steps = steps;\n",
              "\n",
              "  return _uploadFilesContinue(outputId);\n",
              "}\n",
              "\n",
              "// This is roughly an async generator (not supported in the browser yet),\n",
              "// where there are multiple asynchronous steps and the Python side is going\n",
              "// to poll for completion of each step.\n",
              "// This uses a Promise to block the python side on completion of each step,\n",
              "// then passes the result of the previous step as the input to the next step.\n",
              "function _uploadFilesContinue(outputId) {\n",
              "  const outputElement = document.getElementById(outputId);\n",
              "  const steps = outputElement.steps;\n",
              "\n",
              "  const next = steps.next(outputElement.lastPromiseValue);\n",
              "  return Promise.resolve(next.value.promise).then((value) => {\n",
              "    // Cache the last promise value to make it available to the next\n",
              "    // step of the generator.\n",
              "    outputElement.lastPromiseValue = value;\n",
              "    return next.value.response;\n",
              "  });\n",
              "}\n",
              "\n",
              "/**\n",
              " * Generator function which is called between each async step of the upload\n",
              " * process.\n",
              " * @param {string} inputId Element ID of the input file picker element.\n",
              " * @param {string} outputId Element ID of the output display.\n",
              " * @return {!Iterable<!Object>} Iterable of next steps.\n",
              " */\n",
              "function* uploadFilesStep(inputId, outputId) {\n",
              "  const inputElement = document.getElementById(inputId);\n",
              "  inputElement.disabled = false;\n",
              "\n",
              "  const outputElement = document.getElementById(outputId);\n",
              "  outputElement.innerHTML = '';\n",
              "\n",
              "  const pickedPromise = new Promise((resolve) => {\n",
              "    inputElement.addEventListener('change', (e) => {\n",
              "      resolve(e.target.files);\n",
              "    });\n",
              "  });\n",
              "\n",
              "  const cancel = document.createElement('button');\n",
              "  inputElement.parentElement.appendChild(cancel);\n",
              "  cancel.textContent = 'Cancel upload';\n",
              "  const cancelPromise = new Promise((resolve) => {\n",
              "    cancel.onclick = () => {\n",
              "      resolve(null);\n",
              "    };\n",
              "  });\n",
              "\n",
              "  // Wait for the user to pick the files.\n",
              "  const files = yield {\n",
              "    promise: Promise.race([pickedPromise, cancelPromise]),\n",
              "    response: {\n",
              "      action: 'starting',\n",
              "    }\n",
              "  };\n",
              "\n",
              "  cancel.remove();\n",
              "\n",
              "  // Disable the input element since further picks are not allowed.\n",
              "  inputElement.disabled = true;\n",
              "\n",
              "  if (!files) {\n",
              "    return {\n",
              "      response: {\n",
              "        action: 'complete',\n",
              "      }\n",
              "    };\n",
              "  }\n",
              "\n",
              "  for (const file of files) {\n",
              "    const li = document.createElement('li');\n",
              "    li.append(span(file.name, {fontWeight: 'bold'}));\n",
              "    li.append(span(\n",
              "        `(${file.type || 'n/a'}) - ${file.size} bytes, ` +\n",
              "        `last modified: ${\n",
              "            file.lastModifiedDate ? file.lastModifiedDate.toLocaleDateString() :\n",
              "                                    'n/a'} - `));\n",
              "    const percent = span('0% done');\n",
              "    li.appendChild(percent);\n",
              "\n",
              "    outputElement.appendChild(li);\n",
              "\n",
              "    const fileDataPromise = new Promise((resolve) => {\n",
              "      const reader = new FileReader();\n",
              "      reader.onload = (e) => {\n",
              "        resolve(e.target.result);\n",
              "      };\n",
              "      reader.readAsArrayBuffer(file);\n",
              "    });\n",
              "    // Wait for the data to be ready.\n",
              "    let fileData = yield {\n",
              "      promise: fileDataPromise,\n",
              "      response: {\n",
              "        action: 'continue',\n",
              "      }\n",
              "    };\n",
              "\n",
              "    // Use a chunked sending to avoid message size limits. See b/62115660.\n",
              "    let position = 0;\n",
              "    do {\n",
              "      const length = Math.min(fileData.byteLength - position, MAX_PAYLOAD_SIZE);\n",
              "      const chunk = new Uint8Array(fileData, position, length);\n",
              "      position += length;\n",
              "\n",
              "      const base64 = btoa(String.fromCharCode.apply(null, chunk));\n",
              "      yield {\n",
              "        response: {\n",
              "          action: 'append',\n",
              "          file: file.name,\n",
              "          data: base64,\n",
              "        },\n",
              "      };\n",
              "\n",
              "      let percentDone = fileData.byteLength === 0 ?\n",
              "          100 :\n",
              "          Math.round((position / fileData.byteLength) * 100);\n",
              "      percent.textContent = `${percentDone}% done`;\n",
              "\n",
              "    } while (position < fileData.byteLength);\n",
              "  }\n",
              "\n",
              "  // All done.\n",
              "  yield {\n",
              "    response: {\n",
              "      action: 'complete',\n",
              "    }\n",
              "  };\n",
              "}\n",
              "\n",
              "scope.google = scope.google || {};\n",
              "scope.google.colab = scope.google.colab || {};\n",
              "scope.google.colab._files = {\n",
              "  _uploadFiles,\n",
              "  _uploadFilesContinue,\n",
              "};\n",
              "})(self);\n",
              "</script> "
            ]
          },
          "metadata": {}
        },
        {
          "output_type": "stream",
          "name": "stdout",
          "text": [
            "Saving RwandaData_Cleaned1.xlsx to RwandaData_Cleaned1.xlsx\n"
          ]
        }
      ],
      "source": [
        "from google.colab import files\n",
        "uploaded = files.upload()"
      ]
    },
    {
      "cell_type": "code",
      "execution_count": 2,
      "metadata": {
        "id": "TIHC_Vq0nIV0",
        "outputId": "4436ac73-9884-4e74-be4d-96b2894a84be",
        "colab": {
          "base_uri": "https://localhost:8080/"
        }
      },
      "outputs": [
        {
          "output_type": "stream",
          "name": "stdout",
          "text": [
            "         Date First name     Last name  Gender     Age range Occupation  \\\n",
            "0  3/28/2025      Eduard      Turasaba    Male  51 and above     Farmer   \n",
            "1  3/22/2025   Thacienne    Nyirabenda  Female  51 and above     Farmer   \n",
            "2  4/16/2025   Spelacie   Mukanyangezi  Female  51 and above     Farmer   \n",
            "3  3/26/2025     Maurice     Kubwimana    Male         41-45     Farmer   \n",
            "4  3/24/2025         JMV      Uwayezu     Male  51 and above     Farmer   \n",
            "\n",
            "  Permanent residential address   District   Sector       Cell  ...  \\\n",
            "0              Eastern Province    Kirehe   Musaza     Kabuga   ...   \n",
            "1             Southern Province    Muhanga  Kiyumba     Ruhina  ...   \n",
            "2             Southern Province  Nyamagabe     Tare  Gasarenda  ...   \n",
            "3             Southern Province    Kamonyi   Rukoma       Taba  ...   \n",
            "4             Southern Province  Gisagara   Kigembe  Akabacuzi  ...   \n",
            "\n",
            "  Num_Trained_Planning_2025B Planted_Other_Crops_2025A Area_Other_Crops_CA  \\\n",
            "0                          2                        No                 NaN   \n",
            "1                        NaN                       Yes                 NaN   \n",
            "2                         12                       Yes                   1   \n",
            "3                        M/A                        No                 NaN   \n",
            "4                        NaN                        No                 NaN   \n",
            "\n",
            "  Area_Other_Crops_SP Yield_Other_CA_2025A Yield_Other_SP_2025A  \\\n",
            "0                 NaN                  NaN                  NaN   \n",
            "1                 NaN                  NaN                  NaN   \n",
            "2                   1                   56                   45   \n",
            "3                 NaN                  NaN                  NaN   \n",
            "4                 NaN                  NaN                  NaN   \n",
            "\n",
            "  Area_Other_Crops_Total Num_Seasons_CA  \\\n",
            "0                      8              1   \n",
            "1                      1              5   \n",
            "2                      1              1   \n",
            "3                    NaN              1   \n",
            "4                    NaN              1   \n",
            "\n",
            "                                CA_Benefits_Observed CA_Continue_Plan  \n",
            "0  Yego:amazi atinga mubutaka kdi ibishoro biba bike              Yes  \n",
            "1  Yes, Soil hold water, No soil erosion and Redu...              Yes  \n",
            "2  Yego, burwanya isuri, bugabanya ibishoro, bwon...              Yes  \n",
            "3                                                Yes              Yes  \n",
            "4                                                Yes              Yes  \n",
            "\n",
            "[5 rows x 40 columns]\n"
          ]
        }
      ],
      "source": [
        "import pandas as pd\n",
        "\n",
        "filename = 'RwandaData_Cleaned1.xlsx'\n",
        "df = pd.read_excel(filename)\n",
        "\n",
        "print(df.head())"
      ]
    },
    {
      "cell_type": "markdown",
      "source": [
        "# Cleaning"
      ],
      "metadata": {
        "id": "KlQXcMRzP-q3"
      }
    },
    {
      "cell_type": "markdown",
      "source": [
        "## Change Column Names"
      ],
      "metadata": {
        "id": "PtABhryEnPOg"
      }
    },
    {
      "cell_type": "code",
      "source": [
        "# Mapping of new column names\n",
        "#rename_map = {\n",
        "    # Basic respondent info\n",
        "    'Timestamp': 'Timestamp',\n",
        "    'First name: (e.g. Jean Marie or Donatille)': 'First_Name',\n",
        "    'Last name (e.g. Mugabo or Mukeshimana)': 'Last_Name',\n",
        "    '1. Gender': 'Gender',\n",
        "    '4. Age range': 'Age_Range',\n",
        "    'Occupation/Akazi mukora?': 'Occupation',\n",
        "    '5. Permanent residential address/ Aho ubarizwa cyangwa utuye ': 'Address',\n",
        "    '6. District/ Akarere mutuyemo': 'District',\n",
        "    '7. Sector/ Umurenge mutuyemo': 'Sector',\n",
        "    '8. Cell/ Akagari mutuyemo': 'Cell',\n",
        "    '9. Village/ Umudugudu mutuyemo': 'Village',\n",
        "    '10. Farm Location/ Coordinates': 'Farm_Coords',\n",
        "    '11. UPI of the Farm if Possible ': 'UPI',\n",
        "    # Key identifiers\n",
        "    'Have you ever used any content (videos, pdfs, etc) from the SolarSPELL digital library? (see picture below)': 'Used_SS',\n",
        "    'What content did you access from the SolarSPELL library? Can you give a few examples? (Nayahe masomo warebye/ wize ukoresheje SolarSpell Library? Waduha ingero zayo masomo?)': 'SS_Content_Examples',\n",
        "    'Do you agree or disagree with the following statement: The content from the SolarSPELL library was helpful to me in learning more about conservation agriculture. ': 'SS_Helpful_Learning_CA',\n",
        "    'Do you agree or disagree with the following statement: I applied/used information I learned from the SolarSPELL library on my farm.': 'SS_Applied_on_Farm',\n",
        "    'How have you used the information you learned from the SolarSPELL library content? ': 'SS_Usage_Examples',\n",
        "    # Planting\n",
        "    \"1. A. Have you planted a CA demo plot of Maize? Mwashyizeho umurima w'ibigori wo kugerageza muburyo musigasira ubutaka?\": 'Planted_CA_Maize',\n",
        "    \"B.  Have you planted an SP demo plot of Maize? Mwashyizeho umurima w'ibigori wo kugerageza uhinze muburyo busanzwe?\": 'Planted_SP_Maize',\n",
        "    # Numeric areas & yields\n",
        "    '2. A. What was the area (are) you planted Maize using CA? Ibigori wabihinze ku buhe buso (Ari) Muburyo bubungabunga ubutaka? (Umubare gusa ntamagambo ajyamo)': 'Area_CA_Maize',\n",
        "    'B. What was the area (Are) you planted Maize using SP? Ibi wabihinze ku buhe buso (Ari) muburyo busanzwe? (Umubare gusa ntamagambo ajyamo)': 'Area_SP_Maize',\n",
        "    '3. A. What was the Yield of Maize (Kgs) in CA Demo plot? Ibigori mwasaruye ibiro bingahe mumurima wo kugerageza Muburyo bubungabunga ubutaka? (Umubare gusa ntamagambo ajyamo)': 'Yield_CA_Maize',\n",
        "    'B. What was the Yield of Maize (Kgs) in SP Demo plot? Ibigori mwasaruye ibiro bingahe mumurima wo kugerageza Muburyo busanzwe? (Umubare gusa ntamagambo ajyamo)': 'Yield_SP_Maize',\n",
        "    # Expansion\n",
        "    'Did you Apply CA on an other plots? Ese hari ubundi butaka wakoreyeho ubuhinzi busigasira ubutaka?': 'Applied_CA_Expansion',\n",
        "    \"what was the area of that plot? ubuso bw'ubwo butaka (Ari) bungana gute? (Umubare gusa ntamagambo ajyamo)\": 'Area_CA_Expansion',\n",
        "    'What was the Yield harvested on that plot? ese havuyeho umusaruro ungana gute? (Umubare gusa ntamagambo ajyamo)': 'Yield_CA_Expansion',\n",
        "    # Training\n",
        "    'Have you trained/ shared with other people back in your community about conservation agriculture (CA). Hari abantu mwahuguye cg mwasangije ubumenyi kubijyanye n\\'ubuhinzi bubungabunga ubutaka?': 'Trained_CA',\n",
        "    '2. How many people did you train/ shared with back in your community about CA? Abantu mwahuguye cg mwasangije ubumenyi kubuhinzi busigasira ubutaka ni bangahe?': 'Num_Trained_Total',\n",
        "    '3. How many people did you train/ shared with in your community who planted their crops under conservation agriculture in season 2025B? Mu bantu mwahuguye cg mwasangije ubumenyi, nibangahe bakoze ubuhinzi busigasira ubutaka muri sizoni 2025B?': 'Num_Trained_Planted_2025B',\n",
        "    '3. How many people did you train in your community who are planning to plant crops under conservation agriculture in season 2025B? Mu bantu mwahuguye, nibangahe biteguye gukora ubuhinzi busigasira ubutaka muri sizoni 2025B?': 'Num_Trained_Planning_2025B',\n",
        "    # Other crops\n",
        "    'Did you plant other crops in season 2025A? Hari ibindi bihingwa waba warahinze muri sizoni 2025A?': 'Planted_Other_Crops_2025A',\n",
        "    '6. What was the area you planted other crops using CA? Ibindi bihingwa bitari ibigori wabihinze ku buhe buso? (Umubare gusa ntamagambo ajyamo)': 'Area_Other_Crops_CA',\n",
        "    'B. What was the area you planted other crops using SP? Ibindi bihingwa bitari ibigori wabihinze ku buhe buso? (Umubare gusa ntamagambo ajyamo)': 'Area_Other_Crops_SP',\n",
        "    '5. What was the yield of crops planted using CA other than Maize in Season 2025A. Ni uwuhe musaruro bw\\' ibindi bihingwa wahinze mu buryo busigasira ubutaka bitari Ibigori? (Umubare gusa ntamagambo ajyamo)': 'Yield_Other_CA_2025A',\n",
        "    'B. What was the yield of crops planted using SP other than Maize in seaon 2025A. Ni uwuhe musaruro w\\' ibindi bihingwa wahinze mu buryo busanzwe bitari Ibigori? (Umubare gusa ntamagambo ajyamo)': 'Yield_Other_SP_2025A',\n",
        "    'What area are you planting on those crops': 'Area_Other_Crops_Total',\n",
        "    'How many seasons have you practiced CA in your fields? Umaze guhinga muburyo busigasira ubutaka incuro zingahe?': 'Num_Seasons_CA',\n",
        "    'Have you observed any benefits of using CA in your fields? Ese hari ibyiza byogukoresha ubuhinzi busigasira ubutaka wabonye?': 'CA_Benefits_Observed',\n",
        "    'Are you planning to continue applying CA in your field? Wumva uzakomeza gukoresha ubuhinzi busigasira ubutaka?': 'CA_Continue_Plan'\n",
        "#}"
      ],
      "metadata": {
        "id": "QAVzMbzLmBxK"
      },
      "execution_count": null,
      "outputs": []
    },
    {
      "cell_type": "code",
      "source": [
        "# Change column Names\n",
        "#effective_map = {orig: new for orig, new in rename_map.items() if orig in df.columns}\n",
        "#df = df.rename(columns=effective_map)\n",
        "#effective_map = {orig: new for orig, new in rename_map.items() if orig in df.columns}\n",
        "#df = df.rename(columns=effective_map)"
      ],
      "metadata": {
        "id": "MrKtBlJTnJoz"
      },
      "execution_count": null,
      "outputs": []
    },
    {
      "cell_type": "code",
      "source": [
        "# Checking New Columns\n",
        "df.columns"
      ],
      "metadata": {
        "id": "rDDva1U6mhti",
        "outputId": "86758f96-8bcb-4c03-e651-ae7dd18f2f4e",
        "colab": {
          "base_uri": "https://localhost:8080/"
        }
      },
      "execution_count": null,
      "outputs": [
        {
          "output_type": "execute_result",
          "data": {
            "text/plain": [
              "Index(['Timestamp', 'First_Name', 'Last_Name', 'Gender', 'Age_Range',\n",
              "       'Occupation', 'Address', 'District', 'Sector', 'Cell', 'Village',\n",
              "       'Farm_Coords', 'UPI', 'Used_SS', 'SS_Content_Examples',\n",
              "       'SS_Helpful_Learning_CA', 'SS_Applied_on_Farm', 'SS_Usage_Examples',\n",
              "       'Planted_CA_Maize', 'Planted_SP_Maize', 'Area_CA_Maize',\n",
              "       'Area_SP_Maize', 'Yield_CA_Maize', 'Yield_SP_Maize',\n",
              "       'Applied_CA_Expansion', 'Area_CA_Expansion', 'Yield_CA_Expansion',\n",
              "       'Trained_CA', 'Num_Trained_Total', 'Num_Trained_Planted_2025B',\n",
              "       'Num_Trained_Planning_2025B', 'Planted_Other_Crops_2025A',\n",
              "       'Area_Other_Crops_CA', 'Area_Other_Crops_SP', 'Yield_Other_CA_2025A',\n",
              "       'Yield_Other_SP_2025A', 'Area_Other_Crops_Total', 'Num_Seasons_CA',\n",
              "       'CA_Benefits_Observed', 'CA_Continue_Plan'],\n",
              "      dtype='object')"
            ]
          },
          "metadata": {},
          "execution_count": 50
        }
      ]
    },
    {
      "cell_type": "markdown",
      "source": [
        "## Translation"
      ],
      "metadata": {
        "id": "1LRuSkJenWFx"
      }
    },
    {
      "cell_type": "code",
      "source": [
        "# Translation"
      ],
      "metadata": {
        "id": "esUCGxd2WcjK"
      },
      "execution_count": null,
      "outputs": []
    },
    {
      "cell_type": "markdown",
      "source": [
        "## Standardizing Nulls"
      ],
      "metadata": {
        "id": "kUMyKgqNnXrY"
      }
    },
    {
      "cell_type": "code",
      "source": [
        "# Standardize \"No Data\" Entries\n",
        "df = df.replace({'N/A': pd.NA, 'N/Q': pd.NA})"
      ],
      "metadata": {
        "id": "1mTttDa4Wd_q"
      },
      "execution_count": 3,
      "outputs": []
    },
    {
      "cell_type": "markdown",
      "source": [
        "## Data Type Conversions"
      ],
      "metadata": {
        "id": "srMwyRUDnZzx"
      }
    },
    {
      "cell_type": "code",
      "source": [
        "# Create a list of your numeric columns\n",
        "numeric_cols = [col for col in df.columns if col.startswith(('Area_', 'Yield_', 'Num_'))]\n",
        "\n",
        "# Loop through each column and find rows containing letters\n",
        "for col in numeric_cols:\n",
        "    # Use .str.contains() to find any cell with letters (a-z, A-Z)\n",
        "    # na=False ensures that actual Null values (NaN) don't cause an error\n",
        "    problem_rows = df[df[col].astype(str).str.contains('[a-zA-Z]', na=False)]\n",
        "\n",
        "    if not problem_rows.empty:\n",
        "        print(f\"--- Found text in column: {col} ---\")\n",
        "        print(problem_rows[[col]]) # Show the problematic values in that column"
      ],
      "metadata": {
        "id": "em4HrWpglb-T",
        "outputId": "3b463730-3dfc-493f-cf7d-0ab82fec6c66",
        "colab": {
          "base_uri": "https://localhost:8080/"
        }
      },
      "execution_count": 4,
      "outputs": [
        {
          "output_type": "stream",
          "name": "stdout",
          "text": [
            "--- Found text in column: Area_CA_Maize ---\n",
            "     Area_CA_Maize\n",
            "219            NA \n",
            "226            NA \n",
            "228            NA \n",
            "342           8are\n",
            "343            O.5\n",
            "...            ...\n",
            "3559           NaN\n",
            "3560           NaN\n",
            "3561           NaN\n",
            "3565           NaN\n",
            "3570           NaN\n",
            "\n",
            "[500 rows x 1 columns]\n",
            "--- Found text in column: Area_SP_Maize ---\n",
            "     Area_SP_Maize\n",
            "0              NaN\n",
            "2              NaN\n",
            "3              NaN\n",
            "4              NaN\n",
            "5              NaN\n",
            "...            ...\n",
            "3563           NaN\n",
            "3565           NaN\n",
            "3567          O.75\n",
            "3569           NaN\n",
            "3570           NaN\n",
            "\n",
            "[2434 rows x 1 columns]\n",
            "--- Found text in column: Yield_CA_Maize ---\n",
            "     Yield_CA_Maize\n",
            "0               NaN\n",
            "2               NaN\n",
            "5               NaN\n",
            "6               NaN\n",
            "7               NaN\n",
            "...             ...\n",
            "3560            NaN\n",
            "3561            NaN\n",
            "3563            NaN\n",
            "3565            NaN\n",
            "3570            NaN\n",
            "\n",
            "[1714 rows x 1 columns]\n",
            "--- Found text in column: Yield_SP_Maize ---\n",
            "     Yield_SP_Maize\n",
            "0               NaN\n",
            "2               NaN\n",
            "3               NaN\n",
            "4               NaN\n",
            "5               NaN\n",
            "...             ...\n",
            "3562            NaN\n",
            "3563            NaN\n",
            "3565            NaN\n",
            "3569            NaN\n",
            "3570            NaN\n",
            "\n",
            "[2625 rows x 1 columns]\n",
            "--- Found text in column: Area_CA_Expansion ---\n",
            "     Area_CA_Expansion\n",
            "2                  NaN\n",
            "3                  NaN\n",
            "4                  NaN\n",
            "7                  NaN\n",
            "9                  NaN\n",
            "...                ...\n",
            "3566               NaN\n",
            "3567               NA \n",
            "3568               NA \n",
            "3569               NaN\n",
            "3570               NaN\n",
            "\n",
            "[2162 rows x 1 columns]\n",
            "--- Found text in column: Yield_CA_Expansion ---\n",
            "     Yield_CA_Expansion\n",
            "2                   NaN\n",
            "3                   NaN\n",
            "4                   NaN\n",
            "7                   NaN\n",
            "8                   NaN\n",
            "...                 ...\n",
            "3566                NaN\n",
            "3567                NA \n",
            "3568                NA \n",
            "3569                NaN\n",
            "3570                NaN\n",
            "\n",
            "[2560 rows x 1 columns]\n",
            "--- Found text in column: Num_Trained_Total ---\n",
            "     Num_Trained_Total\n",
            "4                  NaN\n",
            "23                 NaN\n",
            "27                 NaN\n",
            "28                 NaN\n",
            "29                 NaN\n",
            "...                ...\n",
            "3500               NaN\n",
            "3507               NaN\n",
            "3532               NaN\n",
            "3561               NaN\n",
            "3564               NaN\n",
            "\n",
            "[805 rows x 1 columns]\n",
            "--- Found text in column: Num_Trained_Planted_2025B ---\n",
            "     Num_Trained_Planted_2025B\n",
            "3                          NaN\n",
            "4                          NaN\n",
            "7                          NaN\n",
            "12                         NaN\n",
            "14                         NaN\n",
            "...                        ...\n",
            "3562                       NaN\n",
            "3564                       NaN\n",
            "3568                       NA \n",
            "3569                       NaN\n",
            "3570                       NaN\n",
            "\n",
            "[1605 rows x 1 columns]\n",
            "--- Found text in column: Num_Trained_Planning_2025B ---\n",
            "     Num_Trained_Planning_2025B\n",
            "1                           NaN\n",
            "3                           M/A\n",
            "4                           NaN\n",
            "7                           NaN\n",
            "13                          NaN\n",
            "...                         ...\n",
            "3564                        NaN\n",
            "3565                        NaN\n",
            "3566                       N /A\n",
            "3568                        NA \n",
            "3569                        NaN\n",
            "\n",
            "[1702 rows x 1 columns]\n",
            "--- Found text in column: Area_Other_Crops_CA ---\n",
            "     Area_Other_Crops_CA\n",
            "0                    NaN\n",
            "1                    NaN\n",
            "3                    NaN\n",
            "4                    NaN\n",
            "7                    NaN\n",
            "...                  ...\n",
            "3564                 NaN\n",
            "3566                 NaN\n",
            "3567                 NA \n",
            "3568                 NaN\n",
            "3569                 NaN\n",
            "\n",
            "[2022 rows x 1 columns]\n",
            "--- Found text in column: Area_Other_Crops_SP ---\n",
            "     Area_Other_Crops_SP\n",
            "0                    NaN\n",
            "1                    NaN\n",
            "3                    NaN\n",
            "4                    NaN\n",
            "5                    NaN\n",
            "...                  ...\n",
            "3564                 NaN\n",
            "3566                 NaN\n",
            "3567                 NA \n",
            "3568                 NA \n",
            "3569                 NaN\n",
            "\n",
            "[2693 rows x 1 columns]\n",
            "--- Found text in column: Yield_Other_CA_2025A ---\n",
            "     Yield_Other_CA_2025A\n",
            "0                     NaN\n",
            "1                     NaN\n",
            "3                     NaN\n",
            "4                     NaN\n",
            "7                     NaN\n",
            "...                   ...\n",
            "3564                  NaN\n",
            "3566                  NaN\n",
            "3567                  NaN\n",
            "3568                  NA \n",
            "3569                  NaN\n",
            "\n",
            "[2279 rows x 1 columns]\n",
            "--- Found text in column: Yield_Other_SP_2025A ---\n",
            "     Yield_Other_SP_2025A\n",
            "0                     NaN\n",
            "1                     NaN\n",
            "3                     NaN\n",
            "4                     NaN\n",
            "5                     NaN\n",
            "...                   ...\n",
            "3564                  NaN\n",
            "3566                  NaN\n",
            "3567                  NA \n",
            "3568                  NA \n",
            "3569                  NaN\n",
            "\n",
            "[2844 rows x 1 columns]\n",
            "--- Found text in column: Area_Other_Crops_Total ---\n",
            "     Area_Other_Crops_Total\n",
            "3                       NaN\n",
            "4                       NaN\n",
            "8                       NaN\n",
            "9                       NaN\n",
            "11                     4are\n",
            "...                     ...\n",
            "3551                    NaN\n",
            "3558                   6are\n",
            "3565                  5 are\n",
            "3568                    NA \n",
            "3569                    NaN\n",
            "\n",
            "[1133 rows x 1 columns]\n"
          ]
        }
      ]
    },
    {
      "cell_type": "code",
      "source": [
        "import numpy as np\n",
        "\n",
        "# --- 1. Define the Comprehensive Cleaning Function ---\n",
        "\n",
        "def clean_and_convert(series):\n",
        "    # Convert the entire series to a string\n",
        "    s = series.astype(str)\n",
        "\n",
        "    # Standardize all null-like text to a single type (np.nan)\n",
        "    # We use .lower() to catch 'na', 'NA', etc., and strip() to remove spaces\n",
        "    null_values = ['na', 'n/a', 'm/a', 'nan', 'n /a']\n",
        "    s = s.str.lower().str.strip() # Make it lowercase and remove leading/trailing spaces\n",
        "    s = s.replace(null_values, np.nan)\n",
        "\n",
        "    # Fix typos: Replace the letter 'O' with the number '0'\n",
        "    s = s.str.replace('o', '0', regex=False)\n",
        "\n",
        "    # Remove units: Strip 'are' and 'kg' and any surrounding space\n",
        "    s = s.str.replace(r'\\s*are\\s*', '', regex=True)\n",
        "    s = s.str.replace(r'\\s*kg\\s*', '', regex=True)\n",
        "\n",
        "    # Convert the cleaned series to a numeric type.\n",
        "    # 'coerce' will turn any remaining problems into a proper Null (NaN).\n",
        "    return pd.to_numeric(s, errors='coerce')\n",
        "\n",
        "\n",
        "# --- 2. Identify the Columns to Clean ---\n",
        "\n",
        "numeric_cols = [col for col in df.columns if col.startswith(('Area_', 'Yield_', 'Num_'))]\n",
        "\n",
        "# --- 3. Apply the Function to Each Column ---\n",
        "\n",
        "print(\"--- Data types BEFORE cleaning ---\")\n",
        "print(df[numeric_cols].dtypes)\n",
        "\n",
        "for col in numeric_cols:\n",
        "    df[col] = clean_and_convert(df[col])\n",
        "\n",
        "print(\"\\n--- Data types AFTER cleaning ---\")\n",
        "print(df[numeric_cols].dtypes)\n",
        "\n",
        "# --- 4. (Optional) Verify one of the columns ---\n",
        "print(\"\\n--- Example of cleaned column: Area_CA_Maize ---\")\n",
        "print(df['Area_CA_Maize'].head(10))"
      ],
      "metadata": {
        "id": "HOrkWNh0QDE7",
        "outputId": "67267f6d-0605-4fc7-b8f7-7491a49b5d09",
        "colab": {
          "base_uri": "https://localhost:8080/"
        }
      },
      "execution_count": 5,
      "outputs": [
        {
          "output_type": "stream",
          "name": "stdout",
          "text": [
            "--- Data types BEFORE cleaning ---\n",
            "Area_CA_Maize                 object\n",
            "Area_SP_Maize                 object\n",
            "Yield_CA_Maize                object\n",
            "Yield_SP_Maize                object\n",
            "Area_CA_Expansion             object\n",
            "Yield_CA_Expansion            object\n",
            "Num_Trained_Total             object\n",
            "Num_Trained_Planted_2025B     object\n",
            "Num_Trained_Planning_2025B    object\n",
            "Area_Other_Crops_CA           object\n",
            "Area_Other_Crops_SP           object\n",
            "Yield_Other_CA_2025A          object\n",
            "Yield_Other_SP_2025A          object\n",
            "Area_Other_Crops_Total        object\n",
            "Num_Seasons_CA                 int64\n",
            "dtype: object\n",
            "\n",
            "--- Data types AFTER cleaning ---\n",
            "Area_CA_Maize                 float64\n",
            "Area_SP_Maize                 float64\n",
            "Yield_CA_Maize                float64\n",
            "Yield_SP_Maize                float64\n",
            "Area_CA_Expansion             float64\n",
            "Yield_CA_Expansion            float64\n",
            "Num_Trained_Total             float64\n",
            "Num_Trained_Planted_2025B     float64\n",
            "Num_Trained_Planning_2025B    float64\n",
            "Area_Other_Crops_CA           float64\n",
            "Area_Other_Crops_SP           float64\n",
            "Yield_Other_CA_2025A          float64\n",
            "Yield_Other_SP_2025A          float64\n",
            "Area_Other_Crops_Total        float64\n",
            "Num_Seasons_CA                  int64\n",
            "dtype: object\n",
            "\n",
            "--- Example of cleaned column: Area_CA_Maize ---\n",
            "0    0.0\n",
            "1    1.0\n",
            "2    0.0\n",
            "3    1.0\n",
            "4    5.0\n",
            "5    0.0\n",
            "6    0.0\n",
            "7    2.0\n",
            "8    0.0\n",
            "9    1.0\n",
            "Name: Area_CA_Maize, dtype: float64\n"
          ]
        }
      ]
    },
    {
      "cell_type": "markdown",
      "source": [
        "## Create Core Analysis Variables"
      ],
      "metadata": {
        "id": "evrsrTYnnbiU"
      }
    },
    {
      "cell_type": "code",
      "source": [
        "# Create the Core Analysis Variable"
      ],
      "metadata": {
        "id": "YBQn-eFzlefi"
      },
      "execution_count": null,
      "outputs": []
    },
    {
      "cell_type": "markdown",
      "source": [
        "# Analysis"
      ],
      "metadata": {
        "id": "6LOVpmROQBT7"
      }
    },
    {
      "cell_type": "markdown",
      "source": [
        "# Save"
      ],
      "metadata": {
        "id": "nuGkGLNPW62K"
      }
    },
    {
      "cell_type": "code",
      "source": [
        "# Save cleaned dataset\n",
        "df.to_csv('solarSPELL_survey_cleaned.csv', index=False)\n",
        "print(\"Cleaned dataset saved to solarSPELL_survey_cleaned.csv\")\n"
      ],
      "metadata": {
        "colab": {
          "base_uri": "https://localhost:8080/"
        },
        "id": "M8Kf-FL1W7zC",
        "outputId": "bed302c2-f090-449a-90ac-1e7702ff60a5"
      },
      "execution_count": null,
      "outputs": [
        {
          "output_type": "stream",
          "name": "stdout",
          "text": [
            "Cleaned dataset saved to solarSPELL_survey_cleaned.csv\n"
          ]
        }
      ]
    }
  ],
  "metadata": {
    "colab": {
      "provenance": [],
      "include_colab_link": true
    },
    "kernelspec": {
      "display_name": "Python 3",
      "name": "python3"
    },
    "language_info": {
      "name": "python"
    }
  },
  "nbformat": 4,
  "nbformat_minor": 0
}